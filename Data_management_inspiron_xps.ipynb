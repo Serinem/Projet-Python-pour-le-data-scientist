{
 "cells": [
  {
   "cell_type": "markdown",
   "metadata": {
    "id": "aHKNliFhUpCU",
    "tags": []
   },
   "source": [
    "# Data management de la base des deux premières catégories de pc : INSPIRON et XPS"
   ]
  },
  {
   "cell_type": "code",
   "execution_count": 1870,
   "metadata": {},
   "outputs": [],
   "source": [
    "data=pd.read_csv(\"data_provisoire.csv\")"
   ]
  },
  {
   "cell_type": "code",
   "execution_count": 1871,
   "metadata": {},
   "outputs": [
    {
     "data": {
      "text/html": [
       "<div>\n",
       "<style scoped>\n",
       "    .dataframe tbody tr th:only-of-type {\n",
       "        vertical-align: middle;\n",
       "    }\n",
       "\n",
       "    .dataframe tbody tr th {\n",
       "        vertical-align: top;\n",
       "    }\n",
       "\n",
       "    .dataframe thead th {\n",
       "        text-align: right;\n",
       "    }\n",
       "</style>\n",
       "<table border=\"1\" class=\"dataframe\">\n",
       "  <thead>\n",
       "    <tr style=\"text-align: right;\">\n",
       "      <th></th>\n",
       "      <th>Unnamed: 0</th>\n",
       "      <th>prix</th>\n",
       "      <th>Processeur</th>\n",
       "      <th>système d'exploitation</th>\n",
       "      <th>carte vidéo</th>\n",
       "      <th>écran</th>\n",
       "      <th>mémoire</th>\n",
       "      <th>disque dur</th>\n",
       "      <th>couleur</th>\n",
       "      <th>logiciel de productivité</th>\n",
       "      <th>...</th>\n",
       "      <th>ports</th>\n",
       "      <th>emplacements</th>\n",
       "      <th>dimensions et poids</th>\n",
       "      <th>appareil photo</th>\n",
       "      <th>song et haut parleur</th>\n",
       "      <th>sans fil</th>\n",
       "      <th>batterie principale</th>\n",
       "      <th>indice de réparabilité</th>\n",
       "      <th>none1</th>\n",
       "      <th>none2</th>\n",
       "    </tr>\n",
       "  </thead>\n",
       "  <tbody>\n",
       "    <tr>\n",
       "      <th>0</th>\n",
       "      <td>cn31006sc11</td>\n",
       "      <td>329,04 €</td>\n",
       "      <td>Processeur Intel® Celeron® N4020 (4 Mo de mémo...</td>\n",
       "      <td>Windows 11 Famille (mode S), anglais, néerland...</td>\n",
       "      <td>Carte graphique Intel® UHD 600 avec mémoire gr...</td>\n",
       "      <td>Écran non tactile HD (1 366 x 768) 15,6 pouces...</td>\n",
       "      <td>4 Go, 1 x 4 Go, de mémoire DDR4, 2 400 MHz</td>\n",
       "      <td>Disque SSD M.2 PCIe NVMe de 128 Go</td>\n",
       "      <td>Carbon Black</td>\n",
       "      <td>Version d‘essai de 30 jours de Microsoft Offic...</td>\n",
       "      <td>...</td>\n",
       "      <td>2 ports USB 3.2 Gen 1\\n1 port USB 2.0\\n1 prise...</td>\n",
       "      <td>1 logement M.2 2230 pour carte Wi-Fi et Blueto...</td>\n",
       "      <td>Hauteur (avant) : 17,50 mm (0,68\")\\nHauteur (a...</td>\n",
       "      <td>Webcam HD 720p à 30 ips, microphone simple</td>\n",
       "      <td>Haut-parleurs stéréo, 2 x 2 W = 4 W au total</td>\n",
       "      <td>802.11ac 1x1 Wi-Fi et Bluetooth</td>\n",
       "      <td>Batterie à 3 cellules, 41 Wh (intégrée)</td>\n",
       "      <td>ENERGY STAR\\nFiches techniques sur la sécurité...</td>\n",
       "      <td>NaN</td>\n",
       "      <td>NaN</td>\n",
       "    </tr>\n",
       "    <tr>\n",
       "      <th>1</th>\n",
       "      <td>cn31003sc11</td>\n",
       "      <td>329,04 €</td>\n",
       "      <td>Processeur Intel® Pentium® Silver N5030 (4 Mo ...</td>\n",
       "      <td>Windows 11 Famille (mode S), anglais, néerland...</td>\n",
       "      <td>Carte graphique Intel® UHD 605 avec mémoire gr...</td>\n",
       "      <td>Écran non tactile 15,6\" Full HD (1 920 x 1 080...</td>\n",
       "      <td>4 Go, 1 x 4 Go, de mémoire DDR4, 2 400 MHz</td>\n",
       "      <td>Disque SSD M.2 PCIe NVMe de 128 Go</td>\n",
       "      <td>Carbon Black</td>\n",
       "      <td>Version d‘essai de 30 jours de Microsoft Offic...</td>\n",
       "      <td>...</td>\n",
       "      <td>2 ports USB 3.2 Gen 1\\n1 port USB 2.0\\n1 prise...</td>\n",
       "      <td>1 logement M.2 2230 pour carte Wi-Fi et Blueto...</td>\n",
       "      <td>Hauteur (avant) : 17,50 mm (0,68\")\\nHauteur (a...</td>\n",
       "      <td>Webcam HD 720p à 30 ips, microphone simple</td>\n",
       "      <td>Haut-parleurs stéréo, 2 x 2 W = 4 W au total</td>\n",
       "      <td>802.11ac 1x1 Wi-Fi et Bluetooth</td>\n",
       "      <td>Batterie à 3 cellules, 41 Wh (intégrée)</td>\n",
       "      <td>ENERGY STAR\\nFiches techniques sur la sécurité...</td>\n",
       "      <td>NaN</td>\n",
       "      <td>NaN</td>\n",
       "    </tr>\n",
       "    <tr>\n",
       "      <th>2</th>\n",
       "      <td>cn31512</td>\n",
       "      <td>449,04 €</td>\n",
       "      <td>Processeur mobile AMD Athlon™ Silver 3050U ave...</td>\n",
       "      <td>Windows 11 Famille, anglais, néerlandais, fran...</td>\n",
       "      <td>Carte graphique AMD Radeon™ avec mémoire graph...</td>\n",
       "      <td>Écran non tactile HD (1 366 x 768) 15,6 pouces...</td>\n",
       "      <td>4 Go, 1 x 4 Go, de mémoire DDR4, 2 400 MHz</td>\n",
       "      <td>Disque SSD M.2 PCIe NVMe de 256 Go</td>\n",
       "      <td>Carbon Black</td>\n",
       "      <td>Aucune licence Microsoft Office incluse, offre...</td>\n",
       "      <td>...</td>\n",
       "      <td>2 ports USB 3.2 Gen 1\\n1 port USB 2.0\\n1 prise...</td>\n",
       "      <td>1 logement M.2 2230 pour carte Wi-Fi et Blueto...</td>\n",
       "      <td>Hauteur : 17,50 à 18,99 mm (0,68 à 0,74\")\\nLar...</td>\n",
       "      <td>Webcam HD 720p et 30 images par seconde</td>\n",
       "      <td>Haut-parleurs stéréo, 2 x 2 W = 4 W au total</td>\n",
       "      <td>802.11ac 1x1 Wi-Fi et Bluetooth</td>\n",
       "      <td>Batterie à 3 cellules, 41 Wh (intégrée)</td>\n",
       "      <td>ENERGY STAR®\\nFiches techniques sur la sécurit...</td>\n",
       "      <td>NaN</td>\n",
       "      <td>NaN</td>\n",
       "    </tr>\n",
       "    <tr>\n",
       "      <th>3</th>\n",
       "      <td>cn31105</td>\n",
       "      <td>499,03 €</td>\n",
       "      <td>Processeur Intel® Core™ i3-1115G4 de 11e génér...</td>\n",
       "      <td>Windows 11 Famille (mode S), anglais, néerland...</td>\n",
       "      <td>Carte graphique Intel® UHD avec mémoire graphi...</td>\n",
       "      <td>Écran non tactile Full HD (1 920 x 1 080) de 1...</td>\n",
       "      <td>8 Go (1 x 8 Go) de mémoire DDR4, 2 666 MHz</td>\n",
       "      <td>Disque SSD M.2 PCIe NVMe de 256 Go</td>\n",
       "      <td>Carbon Black</td>\n",
       "      <td>Aucune licence Microsoft Office incluse, offre...</td>\n",
       "      <td>...</td>\n",
       "      <td>2 ports USB 3.2 1re génération (sur les systèm...</td>\n",
       "      <td>1 logement M.2 2230 pour carte Wi-Fi et Blueto...</td>\n",
       "      <td>Hauteur (avant) : 17,50 mm (0,68 po) x Hauteur...</td>\n",
       "      <td>Webcam HD 720p et 30 ips, microphone simple</td>\n",
       "      <td>Haut-parleurs stéréo, 2 x 2 W = 4 W au total</td>\n",
       "      <td>802.11ac 1x1 Wi-Fi et Bluetooth</td>\n",
       "      <td>Batterie à 3 cellules, 41 Wh (intégrée)</td>\n",
       "      <td>ENERGY STAR\\n\\nFiches techniques sur la sécuri...</td>\n",
       "      <td>NaN</td>\n",
       "      <td>NaN</td>\n",
       "    </tr>\n",
       "    <tr>\n",
       "      <th>4</th>\n",
       "      <td>cn31509</td>\n",
       "      <td>499,03 €</td>\n",
       "      <td>Processeur mobile AMD Ryzen™ 3 3250U avec cart...</td>\n",
       "      <td>Windows 11 Famille (mode S), anglais, néerland...</td>\n",
       "      <td>Carte graphique AMD Radeon™ avec mémoire graph...</td>\n",
       "      <td>Écran 15,6 pouces non tactile FHD (1 920 x 1 0...</td>\n",
       "      <td>8 Go, 1 x 8 Go, de mémoire DDR4, 2 400 MHz</td>\n",
       "      <td>Disque SSD M.2 PCIe NVMe de 256 Go</td>\n",
       "      <td>Carbon Black</td>\n",
       "      <td>Aucune licence Microsoft Office incluse, offre...</td>\n",
       "      <td>...</td>\n",
       "      <td>2 ports USB 3.2 Gen 1\\n1 port USB 2.0\\n1 prise...</td>\n",
       "      <td>1 logement M.2 2230 pour carte Wi-Fi et Blueto...</td>\n",
       "      <td>Hauteur : 17,50 à 18,99 mm (0,68 à 0,74\")\\nLar...</td>\n",
       "      <td>Webcam HD 720p et 30 images par seconde</td>\n",
       "      <td>Haut-parleurs stéréo, 2 x 2 W = 4 W au total</td>\n",
       "      <td>802.11ac 1x1 Wi-Fi et Bluetooth</td>\n",
       "      <td>Batterie à 3 cellules, 41 Wh (intégrée)</td>\n",
       "      <td>ENERGY STAR®\\nFiches techniques sur la sécurit...</td>\n",
       "      <td>NaN</td>\n",
       "      <td>NaN</td>\n",
       "    </tr>\n",
       "  </tbody>\n",
       "</table>\n",
       "<p>5 rows × 24 columns</p>\n",
       "</div>"
      ],
      "text/plain": [
       "    Unnamed: 0      prix                                         Processeur  \\\n",
       "0  cn31006sc11  329,04 €  Processeur Intel® Celeron® N4020 (4 Mo de mémo...   \n",
       "1  cn31003sc11  329,04 €  Processeur Intel® Pentium® Silver N5030 (4 Mo ...   \n",
       "2      cn31512  449,04 €  Processeur mobile AMD Athlon™ Silver 3050U ave...   \n",
       "3      cn31105  499,03 €  Processeur Intel® Core™ i3-1115G4 de 11e génér...   \n",
       "4      cn31509  499,03 €  Processeur mobile AMD Ryzen™ 3 3250U avec cart...   \n",
       "\n",
       "                              système d'exploitation  \\\n",
       "0  Windows 11 Famille (mode S), anglais, néerland...   \n",
       "1  Windows 11 Famille (mode S), anglais, néerland...   \n",
       "2  Windows 11 Famille, anglais, néerlandais, fran...   \n",
       "3  Windows 11 Famille (mode S), anglais, néerland...   \n",
       "4  Windows 11 Famille (mode S), anglais, néerland...   \n",
       "\n",
       "                                         carte vidéo  \\\n",
       "0  Carte graphique Intel® UHD 600 avec mémoire gr...   \n",
       "1  Carte graphique Intel® UHD 605 avec mémoire gr...   \n",
       "2  Carte graphique AMD Radeon™ avec mémoire graph...   \n",
       "3  Carte graphique Intel® UHD avec mémoire graphi...   \n",
       "4  Carte graphique AMD Radeon™ avec mémoire graph...   \n",
       "\n",
       "                                               écran  \\\n",
       "0  Écran non tactile HD (1 366 x 768) 15,6 pouces...   \n",
       "1  Écran non tactile 15,6\" Full HD (1 920 x 1 080...   \n",
       "2  Écran non tactile HD (1 366 x 768) 15,6 pouces...   \n",
       "3  Écran non tactile Full HD (1 920 x 1 080) de 1...   \n",
       "4  Écran 15,6 pouces non tactile FHD (1 920 x 1 0...   \n",
       "\n",
       "                                      mémoire  \\\n",
       "0  4 Go, 1 x 4 Go, de mémoire DDR4, 2 400 MHz   \n",
       "1  4 Go, 1 x 4 Go, de mémoire DDR4, 2 400 MHz   \n",
       "2  4 Go, 1 x 4 Go, de mémoire DDR4, 2 400 MHz   \n",
       "3  8 Go (1 x 8 Go) de mémoire DDR4, 2 666 MHz   \n",
       "4  8 Go, 1 x 8 Go, de mémoire DDR4, 2 400 MHz   \n",
       "\n",
       "                           disque dur       couleur  \\\n",
       "0  Disque SSD M.2 PCIe NVMe de 128 Go  Carbon Black   \n",
       "1  Disque SSD M.2 PCIe NVMe de 128 Go  Carbon Black   \n",
       "2  Disque SSD M.2 PCIe NVMe de 256 Go  Carbon Black   \n",
       "3  Disque SSD M.2 PCIe NVMe de 256 Go  Carbon Black   \n",
       "4  Disque SSD M.2 PCIe NVMe de 256 Go  Carbon Black   \n",
       "\n",
       "                            logiciel de productivité  ...  \\\n",
       "0  Version d‘essai de 30 jours de Microsoft Offic...  ...   \n",
       "1  Version d‘essai de 30 jours de Microsoft Offic...  ...   \n",
       "2  Aucune licence Microsoft Office incluse, offre...  ...   \n",
       "3  Aucune licence Microsoft Office incluse, offre...  ...   \n",
       "4  Aucune licence Microsoft Office incluse, offre...  ...   \n",
       "\n",
       "                                               ports  \\\n",
       "0  2 ports USB 3.2 Gen 1\\n1 port USB 2.0\\n1 prise...   \n",
       "1  2 ports USB 3.2 Gen 1\\n1 port USB 2.0\\n1 prise...   \n",
       "2  2 ports USB 3.2 Gen 1\\n1 port USB 2.0\\n1 prise...   \n",
       "3  2 ports USB 3.2 1re génération (sur les systèm...   \n",
       "4  2 ports USB 3.2 Gen 1\\n1 port USB 2.0\\n1 prise...   \n",
       "\n",
       "                                        emplacements  \\\n",
       "0  1 logement M.2 2230 pour carte Wi-Fi et Blueto...   \n",
       "1  1 logement M.2 2230 pour carte Wi-Fi et Blueto...   \n",
       "2  1 logement M.2 2230 pour carte Wi-Fi et Blueto...   \n",
       "3  1 logement M.2 2230 pour carte Wi-Fi et Blueto...   \n",
       "4  1 logement M.2 2230 pour carte Wi-Fi et Blueto...   \n",
       "\n",
       "                                 dimensions et poids  \\\n",
       "0  Hauteur (avant) : 17,50 mm (0,68\")\\nHauteur (a...   \n",
       "1  Hauteur (avant) : 17,50 mm (0,68\")\\nHauteur (a...   \n",
       "2  Hauteur : 17,50 à 18,99 mm (0,68 à 0,74\")\\nLar...   \n",
       "3  Hauteur (avant) : 17,50 mm (0,68 po) x Hauteur...   \n",
       "4  Hauteur : 17,50 à 18,99 mm (0,68 à 0,74\")\\nLar...   \n",
       "\n",
       "                                appareil photo  \\\n",
       "0   Webcam HD 720p à 30 ips, microphone simple   \n",
       "1   Webcam HD 720p à 30 ips, microphone simple   \n",
       "2      Webcam HD 720p et 30 images par seconde   \n",
       "3  Webcam HD 720p et 30 ips, microphone simple   \n",
       "4      Webcam HD 720p et 30 images par seconde   \n",
       "\n",
       "                           song et haut parleur  \\\n",
       "0  Haut-parleurs stéréo, 2 x 2 W = 4 W au total   \n",
       "1  Haut-parleurs stéréo, 2 x 2 W = 4 W au total   \n",
       "2  Haut-parleurs stéréo, 2 x 2 W = 4 W au total   \n",
       "3  Haut-parleurs stéréo, 2 x 2 W = 4 W au total   \n",
       "4  Haut-parleurs stéréo, 2 x 2 W = 4 W au total   \n",
       "\n",
       "                          sans fil                      batterie principale  \\\n",
       "0  802.11ac 1x1 Wi-Fi et Bluetooth  Batterie à 3 cellules, 41 Wh (intégrée)   \n",
       "1  802.11ac 1x1 Wi-Fi et Bluetooth  Batterie à 3 cellules, 41 Wh (intégrée)   \n",
       "2  802.11ac 1x1 Wi-Fi et Bluetooth  Batterie à 3 cellules, 41 Wh (intégrée)   \n",
       "3  802.11ac 1x1 Wi-Fi et Bluetooth  Batterie à 3 cellules, 41 Wh (intégrée)   \n",
       "4  802.11ac 1x1 Wi-Fi et Bluetooth  Batterie à 3 cellules, 41 Wh (intégrée)   \n",
       "\n",
       "                              indice de réparabilité none1 none2  \n",
       "0  ENERGY STAR\\nFiches techniques sur la sécurité...   NaN   NaN  \n",
       "1  ENERGY STAR\\nFiches techniques sur la sécurité...   NaN   NaN  \n",
       "2  ENERGY STAR®\\nFiches techniques sur la sécurit...   NaN   NaN  \n",
       "3  ENERGY STAR\\n\\nFiches techniques sur la sécuri...   NaN   NaN  \n",
       "4  ENERGY STAR®\\nFiches techniques sur la sécurit...   NaN   NaN  \n",
       "\n",
       "[5 rows x 24 columns]"
      ]
     },
     "execution_count": 1871,
     "metadata": {},
     "output_type": "execute_result"
    }
   ],
   "source": [
    "data.head()"
   ]
  },
  {
   "cell_type": "code",
   "execution_count": 1635,
   "metadata": {},
   "outputs": [
    {
     "data": {
      "text/plain": [
       "(84, 24)"
      ]
     },
     "execution_count": 1635,
     "metadata": {},
     "output_type": "execute_result"
    }
   ],
   "source": [
    "data.shape"
   ]
  },
  {
   "cell_type": "markdown",
   "metadata": {},
   "source": [
    "la base a initialement 84 lignes et 24 colonnes."
   ]
  },
  {
   "cell_type": "code",
   "execution_count": 1872,
   "metadata": {},
   "outputs": [
    {
     "name": "stdout",
     "output_type": "stream",
     "text": [
      "(83, 24)\n"
     ]
    }
   ],
   "source": [
    "# on renomme la colonne du numéro de commande\n",
    "data.rename(columns={'Unnamed: 0': 'num de commande'}, inplace=True)\n",
    "\n",
    "# on retire tous les ordinateurs qui sont potentiellement en double\n",
    "data.drop_duplicates(subset=['num de commande'], inplace=True)\n",
    "\n",
    "print(data.shape) \n",
    "\n",
    "# on met le num de commande en index \n",
    "data.set_index(\"num de commande\",inplace = True) #on met le num de commande en index "
   ]
  },
  {
   "cell_type": "markdown",
   "metadata": {},
   "source": [
    "Une ligne est partie donc on avait un ordinateur en double."
   ]
  },
  {
   "cell_type": "code",
   "execution_count": 1873,
   "metadata": {},
   "outputs": [
    {
     "data": {
      "text/html": [
       "<div>\n",
       "<style scoped>\n",
       "    .dataframe tbody tr th:only-of-type {\n",
       "        vertical-align: middle;\n",
       "    }\n",
       "\n",
       "    .dataframe tbody tr th {\n",
       "        vertical-align: top;\n",
       "    }\n",
       "\n",
       "    .dataframe thead th {\n",
       "        text-align: right;\n",
       "    }\n",
       "</style>\n",
       "<table border=\"1\" class=\"dataframe\">\n",
       "  <thead>\n",
       "    <tr style=\"text-align: right;\">\n",
       "      <th></th>\n",
       "      <th>prix</th>\n",
       "      <th>Processeur</th>\n",
       "      <th>système d'exploitation</th>\n",
       "      <th>carte vidéo</th>\n",
       "      <th>écran</th>\n",
       "      <th>mémoire</th>\n",
       "      <th>disque dur</th>\n",
       "      <th>couleur</th>\n",
       "      <th>logiciel de productivité</th>\n",
       "      <th>logiciel de sécurité</th>\n",
       "      <th>...</th>\n",
       "      <th>ports</th>\n",
       "      <th>emplacements</th>\n",
       "      <th>dimensions et poids</th>\n",
       "      <th>appareil photo</th>\n",
       "      <th>song et haut parleur</th>\n",
       "      <th>sans fil</th>\n",
       "      <th>batterie principale</th>\n",
       "      <th>indice de réparabilité</th>\n",
       "      <th>none1</th>\n",
       "      <th>none2</th>\n",
       "    </tr>\n",
       "  </thead>\n",
       "  <tbody>\n",
       "    <tr>\n",
       "      <th>count</th>\n",
       "      <td>83</td>\n",
       "      <td>83</td>\n",
       "      <td>83</td>\n",
       "      <td>83</td>\n",
       "      <td>83</td>\n",
       "      <td>83</td>\n",
       "      <td>83</td>\n",
       "      <td>83</td>\n",
       "      <td>83</td>\n",
       "      <td>83</td>\n",
       "      <td>...</td>\n",
       "      <td>78</td>\n",
       "      <td>78</td>\n",
       "      <td>83</td>\n",
       "      <td>83</td>\n",
       "      <td>83</td>\n",
       "      <td>83</td>\n",
       "      <td>83</td>\n",
       "      <td>78</td>\n",
       "      <td>59</td>\n",
       "      <td>5</td>\n",
       "    </tr>\n",
       "    <tr>\n",
       "      <th>unique</th>\n",
       "      <td>63</td>\n",
       "      <td>28</td>\n",
       "      <td>4</td>\n",
       "      <td>21</td>\n",
       "      <td>25</td>\n",
       "      <td>18</td>\n",
       "      <td>10</td>\n",
       "      <td>10</td>\n",
       "      <td>2</td>\n",
       "      <td>3</td>\n",
       "      <td>...</td>\n",
       "      <td>21</td>\n",
       "      <td>9</td>\n",
       "      <td>23</td>\n",
       "      <td>20</td>\n",
       "      <td>18</td>\n",
       "      <td>18</td>\n",
       "      <td>12</td>\n",
       "      <td>16</td>\n",
       "      <td>16</td>\n",
       "      <td>1</td>\n",
       "    </tr>\n",
       "    <tr>\n",
       "      <th>top</th>\n",
       "      <td>829,04 €</td>\n",
       "      <td>Processeur Intel® Core™ i7-1165G7 de 11e génér...</td>\n",
       "      <td>Windows 11 Famille, anglais, néerlandais, fran...</td>\n",
       "      <td>Carte graphique Intel® Iris® Xe avec mémoire g...</td>\n",
       "      <td>Écran non tactile Full HD (1 920 x 1 080) de 1...</td>\n",
       "      <td>16 Go, 2 x 8 Go, de mémoire DDR4, 3 200 MHz</td>\n",
       "      <td>Disque SSD M.2 PCIe NVMe de 512 Go</td>\n",
       "      <td>Platinum Silver</td>\n",
       "      <td>Version d‘essai de 30 jours de Microsoft Offic...</td>\n",
       "      <td>Abonnement de 12 mois à McAfee LiveSafe</td>\n",
       "      <td>...</td>\n",
       "      <td>2 ports Thunderbolt™ 4\\n1 port casque (combiné...</td>\n",
       "      <td>1 logement de carte microSD</td>\n",
       "      <td>Hauteur : 14,8 mm (0,58\")\\nLargeur : 295,7 mm ...</td>\n",
       "      <td>Webcam HD 720p et 30 images par seconde\\nDoubl...</td>\n",
       "      <td>Haut-parleurs stéréo, 2 x 2 W = 4 W au total</td>\n",
       "      <td>Matériaux de l’extérieur du boîtier\\nCoque ext...</td>\n",
       "      <td>Carte Killer AX1650 (2x2) basé sur Intel WiFi ...</td>\n",
       "      <td>Batterie à 4 cellules, 54 Wh (intégrée)</td>\n",
       "      <td>DASEn savoir plus\\n\"&gt;* (Tronc) : 1,69 W/Kg\\nEN...</td>\n",
       "      <td>DASEn savoir plus\"&gt;* (Tronc) : 1425 W/Kg\\nConf...</td>\n",
       "    </tr>\n",
       "    <tr>\n",
       "      <th>freq</th>\n",
       "      <td>5</td>\n",
       "      <td>14</td>\n",
       "      <td>65</td>\n",
       "      <td>22</td>\n",
       "      <td>13</td>\n",
       "      <td>20</td>\n",
       "      <td>46</td>\n",
       "      <td>30</td>\n",
       "      <td>52</td>\n",
       "      <td>55</td>\n",
       "      <td>...</td>\n",
       "      <td>6</td>\n",
       "      <td>31</td>\n",
       "      <td>6</td>\n",
       "      <td>15</td>\n",
       "      <td>20</td>\n",
       "      <td>14</td>\n",
       "      <td>14</td>\n",
       "      <td>14</td>\n",
       "      <td>6</td>\n",
       "      <td>5</td>\n",
       "    </tr>\n",
       "  </tbody>\n",
       "</table>\n",
       "<p>4 rows × 23 columns</p>\n",
       "</div>"
      ],
      "text/plain": [
       "            prix                                         Processeur  \\\n",
       "count         83                                                 83   \n",
       "unique        63                                                 28   \n",
       "top     829,04 €  Processeur Intel® Core™ i7-1165G7 de 11e génér...   \n",
       "freq           5                                                 14   \n",
       "\n",
       "                                   système d'exploitation  \\\n",
       "count                                                  83   \n",
       "unique                                                  4   \n",
       "top     Windows 11 Famille, anglais, néerlandais, fran...   \n",
       "freq                                                   65   \n",
       "\n",
       "                                              carte vidéo  \\\n",
       "count                                                  83   \n",
       "unique                                                 21   \n",
       "top     Carte graphique Intel® Iris® Xe avec mémoire g...   \n",
       "freq                                                   22   \n",
       "\n",
       "                                                    écran  \\\n",
       "count                                                  83   \n",
       "unique                                                 25   \n",
       "top     Écran non tactile Full HD (1 920 x 1 080) de 1...   \n",
       "freq                                                   13   \n",
       "\n",
       "                                            mémoire  \\\n",
       "count                                            83   \n",
       "unique                                           18   \n",
       "top     16 Go, 2 x 8 Go, de mémoire DDR4, 3 200 MHz   \n",
       "freq                                             20   \n",
       "\n",
       "                                disque dur          couleur  \\\n",
       "count                                   83               83   \n",
       "unique                                  10               10   \n",
       "top     Disque SSD M.2 PCIe NVMe de 512 Go  Platinum Silver   \n",
       "freq                                    46               30   \n",
       "\n",
       "                                 logiciel de productivité  \\\n",
       "count                                                  83   \n",
       "unique                                                  2   \n",
       "top     Version d‘essai de 30 jours de Microsoft Offic...   \n",
       "freq                                                   52   \n",
       "\n",
       "                           logiciel de sécurité  ...  \\\n",
       "count                                        83  ...   \n",
       "unique                                        3  ...   \n",
       "top     Abonnement de 12 mois à McAfee LiveSafe  ...   \n",
       "freq                                         55  ...   \n",
       "\n",
       "                                                    ports  \\\n",
       "count                                                  78   \n",
       "unique                                                 21   \n",
       "top     2 ports Thunderbolt™ 4\\n1 port casque (combiné...   \n",
       "freq                                                    6   \n",
       "\n",
       "                       emplacements  \\\n",
       "count                            78   \n",
       "unique                            9   \n",
       "top     1 logement de carte microSD   \n",
       "freq                             31   \n",
       "\n",
       "                                      dimensions et poids  \\\n",
       "count                                                  83   \n",
       "unique                                                 23   \n",
       "top     Hauteur : 14,8 mm (0,58\")\\nLargeur : 295,7 mm ...   \n",
       "freq                                                    6   \n",
       "\n",
       "                                           appareil photo  \\\n",
       "count                                                  83   \n",
       "unique                                                 20   \n",
       "top     Webcam HD 720p et 30 images par seconde\\nDoubl...   \n",
       "freq                                                   15   \n",
       "\n",
       "                                song et haut parleur  \\\n",
       "count                                             83   \n",
       "unique                                            18   \n",
       "top     Haut-parleurs stéréo, 2 x 2 W = 4 W au total   \n",
       "freq                                              20   \n",
       "\n",
       "                                                 sans fil  \\\n",
       "count                                                  83   \n",
       "unique                                                 18   \n",
       "top     Matériaux de l’extérieur du boîtier\\nCoque ext...   \n",
       "freq                                                   14   \n",
       "\n",
       "                                      batterie principale  \\\n",
       "count                                                  83   \n",
       "unique                                                 12   \n",
       "top     Carte Killer AX1650 (2x2) basé sur Intel WiFi ...   \n",
       "freq                                                   14   \n",
       "\n",
       "                         indice de réparabilité  \\\n",
       "count                                        78   \n",
       "unique                                       16   \n",
       "top     Batterie à 4 cellules, 54 Wh (intégrée)   \n",
       "freq                                         14   \n",
       "\n",
       "                                                    none1  \\\n",
       "count                                                  59   \n",
       "unique                                                 16   \n",
       "top     DASEn savoir plus\\n\">* (Tronc) : 1,69 W/Kg\\nEN...   \n",
       "freq                                                    6   \n",
       "\n",
       "                                                    none2  \n",
       "count                                                   5  \n",
       "unique                                                  1  \n",
       "top     DASEn savoir plus\">* (Tronc) : 1425 W/Kg\\nConf...  \n",
       "freq                                                    5  \n",
       "\n",
       "[4 rows x 23 columns]"
      ]
     },
     "execution_count": 1873,
     "metadata": {},
     "output_type": "execute_result"
    }
   ],
   "source": [
    "data.describe()"
   ]
  },
  {
   "cell_type": "code",
   "execution_count": 1446,
   "metadata": {},
   "outputs": [
    {
     "data": {
      "text/plain": [
       "['prix',\n",
       " 'Processeur',\n",
       " \"système d'exploitation\",\n",
       " ' carte vidéo',\n",
       " ' écran',\n",
       " 'mémoire',\n",
       " 'disque dur',\n",
       " 'couleur',\n",
       " ' logiciel de productivité',\n",
       " 'logiciel de sécurité',\n",
       " 'service de support',\n",
       " 'garantie et domage aciidentel',\n",
       " ' clavier',\n",
       " 'ports',\n",
       " 'emplacements',\n",
       " 'dimensions et poids',\n",
       " 'appareil photo',\n",
       " ' song et haut parleur',\n",
       " 'sans fil',\n",
       " 'batterie principale',\n",
       " 'indice de réparabilité',\n",
       " 'none1',\n",
       " 'none2']"
      ]
     },
     "execution_count": 1446,
     "metadata": {},
     "output_type": "execute_result"
    }
   ],
   "source": [
    "data.columns.to_list()"
   ]
  },
  {
   "cell_type": "markdown",
   "metadata": {},
   "source": [
    "On remarque qu'il y a des colonnes en trop par rapport à ce que l'on souhaite. On veut l'ensemble des caractéristiques présentes sur le site web dell des ordinateurs. Les 2 dernières colonnes sont à retirer ici : 'none1' et 'none2'."
   ]
  },
  {
   "cell_type": "code",
   "execution_count": 1875,
   "metadata": {},
   "outputs": [],
   "source": [
    "# On affiche les doublons\n",
    "for i in data.duplicated():\n",
    "    if i =='True':\n",
    "        print(i)\n",
    "# On a pas de doublons car rien ne s'affiche"
   ]
  },
  {
   "cell_type": "code",
   "execution_count": 1874,
   "metadata": {},
   "outputs": [],
   "source": [
    "# dans la variable prix on enleve le €, les espaces et on remplace les virgules pour convertir en float\n",
    "data['prix'] = data['prix'].astype('str')\n",
    "data['prix'] = data['prix'].str.replace('€', '')\n",
    "\n",
    "data['prix']= data[\"prix\"].str.replace(\" \", \"\")\n",
    "\n"
   ]
  },
  {
   "cell_type": "code",
   "execution_count": 1876,
   "metadata": {},
   "outputs": [
    {
     "name": "stdout",
     "output_type": "stream",
     "text": [
      "Valeurs manquantes par colonne:\n",
      "prix                              0\n",
      "Processeur                        0\n",
      "système d'exploitation            0\n",
      " carte vidéo                      0\n",
      " écran                            0\n",
      "mémoire                           0\n",
      "disque dur                        0\n",
      "couleur                           0\n",
      " logiciel de productivité         0\n",
      "logiciel de sécurité              0\n",
      "service de support                0\n",
      "garantie et domage aciidentel     0\n",
      " clavier                          0\n",
      "ports                             5\n",
      "emplacements                      5\n",
      "dimensions et poids               0\n",
      "appareil photo                    0\n",
      " song et haut parleur             0\n",
      "sans fil                          0\n",
      "batterie principale               0\n",
      "indice de réparabilité            5\n",
      "none1                            24\n",
      "none2                            78\n",
      "dtype: int64\n"
     ]
    }
   ],
   "source": [
    "# Fonction permettant d'afficher le nombre de valeurs manquantes par colonne\n",
    "def num_missing(x):\n",
    "    return sum(x.isnull())\n",
    "\n",
    "# On applique cette fonction pour chaque colonne:\n",
    "print(\"Valeurs manquantes par colonne:\")\n",
    "print(data.apply(num_missing, axis=0)) "
   ]
  },
  {
   "cell_type": "markdown",
   "metadata": {},
   "source": [
    "Les variables avec le plus de valeurs manquantes sont none1 none 2 qui n'apporte aucune information en plus : nous les supprimons."
   ]
  },
  {
   "cell_type": "code",
   "execution_count": 1878,
   "metadata": {},
   "outputs": [],
   "source": [
    "data.drop(columns=[\"none1\", \"none2\"],inplace=True)"
   ]
  },
  {
   "cell_type": "code",
   "execution_count": 1879,
   "metadata": {},
   "outputs": [],
   "source": [
    "# on convertit toutes les écritures en minuscule afin de faciliter le traitement des variables\n",
    "columns=data.columns.to_list()\n",
    "for i in columns:\n",
    "    data[i]=data[i].str.lower()"
   ]
  },
  {
   "cell_type": "code",
   "execution_count": 1454,
   "metadata": {},
   "outputs": [
    {
     "name": "stdout",
     "output_type": "stream",
     "text": [
      "le nombre de catégories dans la variable prix est de 63\n",
      "le nombre de catégories dans la variable Processeur est de 28\n",
      "le nombre de catégories dans la variable système d'exploitation est de 4\n",
      "le nombre de catégories dans la variable  carte vidéo est de 21\n",
      "le nombre de catégories dans la variable  écran est de 25\n",
      "le nombre de catégories dans la variable mémoire est de 18\n",
      "le nombre de catégories dans la variable disque dur est de 10\n",
      "le nombre de catégories dans la variable couleur est de 10\n",
      "le nombre de catégories dans la variable  logiciel de productivité est de 2\n",
      "le nombre de catégories dans la variable logiciel de sécurité est de 3\n",
      "le nombre de catégories dans la variable service de support est de 3\n",
      "le nombre de catégories dans la variable garantie et domage aciidentel est de 2\n",
      "le nombre de catégories dans la variable  clavier est de 11\n",
      "le nombre de catégories dans la variable ports est de 21\n",
      "le nombre de catégories dans la variable emplacements est de 9\n",
      "le nombre de catégories dans la variable dimensions et poids est de 23\n",
      "le nombre de catégories dans la variable appareil photo est de 20\n",
      "le nombre de catégories dans la variable  song et haut parleur est de 18\n",
      "le nombre de catégories dans la variable sans fil est de 18\n",
      "le nombre de catégories dans la variable batterie principale est de 12\n",
      "le nombre de catégories dans la variable indice de réparabilité est de 16\n"
     ]
    }
   ],
   "source": [
    "for i in columns:\n",
    "    print(\"le nombre de catégories dans la variable\",i, \"est de\",data[i].nunique())"
   ]
  },
  {
   "cell_type": "markdown",
   "metadata": {},
   "source": [
    "## Pour chaque variable, on va extraire l'information importante qui nous intéresse et qui va nous servir pour la modélisation."
   ]
  },
  {
   "cell_type": "markdown",
   "metadata": {},
   "source": [
    "On va traiter les variables qui à notre sens sont les plus \"importantes\" car elles nous servirons pour la modélisation finale et pour notre objectif qui est d'expliquer le score d'avis. "
   ]
  },
  {
   "cell_type": "markdown",
   "metadata": {},
   "source": [
    "## Variable disque dur"
   ]
  },
  {
   "cell_type": "code",
   "execution_count": 1880,
   "metadata": {},
   "outputs": [
    {
     "data": {
      "text/plain": [
       "disque ssd m.2 pcie nvme de 512 go                                                                         46\n",
       "disque ssd m.2 pcie nvme de 256 go                                                                         14\n",
       "disque ssd m.2 pcie nvme de 1 to                                                                           10\n",
       "disque ssd m.2 pcie nvme de 128 go                                                                          2\n",
       "disque ssd pcie nvme de 512 go                                                                              2\n",
       "1tb m.2 pcie nvme solid state drive                                                                         2\n",
       "512gb cl35 m.2 ssd                                                                                          2\n",
       "disque ssd m.2 pcie nvme x4 intégré de 512 go                                                               2\n",
       "disque ssd pcie nvme x4 intégré de 1 to                                                                     2\n",
       "disque ssd m.2 pcie nvme de 256 go (démarrage) + disque dur sata 2,5\" de 1 to à 5 400 tr/min (stockage)     1\n",
       "Name: disque dur, dtype: int64"
      ]
     },
     "execution_count": 1880,
     "metadata": {},
     "output_type": "execute_result"
    }
   ],
   "source": [
    "data['disque dur'].value_counts()"
   ]
  },
  {
   "cell_type": "code",
   "execution_count": 1881,
   "metadata": {},
   "outputs": [],
   "source": [
    "# on tranforme les \"phrases\" en une chaine de caractères en enlevant les espaces\n",
    "data['disque dur']=data['disque dur'].apply(lambda x: x.replace(\" \", \"\"))\n",
    "\n",
    "# Fonction qui permet de garder la taille du disque dur en go uniquement  \n",
    "def fonction(x):\n",
    "    if x.find(\"go\") != -1:\n",
    "        index=x.find(\"go\")\n",
    "        x=x.replace(x[:],x[index-3:index])\n",
    "        return x\n",
    "    if x.find(\"to\") != -1:\n",
    "        index=x.find(\"to\")\n",
    "        x=x.replace(x[:],\"1000\")\n",
    "        return x\n",
    "    if x.find(\"tb\") != -1:\n",
    "        index=x.find(\"tb\")\n",
    "        x=x.replace(x[:],\"1000\")\n",
    "    \n",
    "        return x\n",
    "    if x.find(\"gb\") != -1:\n",
    "        index=x.find(\"gb\")\n",
    "        x=x.replace(x[:],x[index-3:index])\n",
    "        return x\n",
    "    \n",
    "#on applique la fonction à notre variable \n",
    "data['disque dur']=data['disque dur'].apply(fonction)\n",
    "\n",
    "#on renomme la colonne \n",
    "data.rename(columns={'disque dur': 'taille du disque dur en GO'}, inplace=True)\n"
   ]
  },
  {
   "cell_type": "code",
   "execution_count": 1882,
   "metadata": {},
   "outputs": [
    {
     "name": "stdout",
     "output_type": "stream",
     "text": [
      "512     52\n",
      "256     15\n",
      "1000    14\n",
      "128      2\n",
      "Name: taille du disque dur en GO, dtype: int64\n"
     ]
    }
   ],
   "source": [
    "print(data['taille du disque dur en GO'].value_counts())"
   ]
  },
  {
   "cell_type": "markdown",
   "metadata": {},
   "source": [
    "On a maintenant quatres catégories de disque dur."
   ]
  },
  {
   "cell_type": "markdown",
   "metadata": {},
   "source": [
    "# Variable processeur"
   ]
  },
  {
   "cell_type": "markdown",
   "metadata": {},
   "source": [
    "On ne souhaite garder que la vitesse du processeur en ghz."
   ]
  },
  {
   "cell_type": "code",
   "execution_count": 1883,
   "metadata": {},
   "outputs": [
    {
     "data": {
      "text/plain": [
       "processeur intel® core™ i7-1165g7 de 11e génération (12 mo de mémoire cache, jusqu‘à 4,7 ghz)              14\n",
       "processeur intel® core™ i7-11800h de 11e génération (24 mo de mémoire cache, jusqu‘à 4,6 ghz, 8 coeurs)    12\n",
       "processeur intel® core™ i5-1135g7 de 11e génération (8 mo de mémoire cache, jusqu‘à 4,2 ghz)                8\n",
       "processeur intel® core™ i5-11400h de 11e génération (12 mo de mémoire cache, jusqu‘à 4,5 ghz, 6 coeurs)     6\n",
       "11th generation intel® core™ i7-11390h processor (12mb cache, up to 5.0ghz with itbm3.0)                    6\n",
       "processeur mobile amd ryzen™ 7 5700u 8 coeurs/16 threads avec carte graphique radeon™                       4\n",
       "processeur intel® core™ i7-1185g7 de 11e génération (12 mo de mémoire cache, jusqu‘à 4,8 ghz)               3\n",
       "processeur intel® core™ i5-11320h de 11e génération (8 mo de mémoire cache, jusqu‘à 4,5 ghz)                3\n",
       "processeur mobile amd ryzen™ 5 5500u avec carte graphique radeon™                                           2\n",
       "11th generation intel® core™ i5-11320h processor (8mb cache, up to 4.5ghz)                                  2\n",
       "11th generation intel® core™ i7-1195g7 processor (12mb cache, up to 5.0 ghz)                                2\n",
       "processeur mobile amd ryzen™ 5 5500u 6 coeurs/12 threads avec carte graphique radeon™                       2\n",
       "processeur intel® core™ i3-1125g4 de 11e génération (8 mo de mémoire cache, jusqu‘à 3,7 ghz)                2\n",
       "processeur mobile amd ryzen™ 5 3450u avec carte graphique radeon™ vega 8                                    2\n",
       "processeur intel® core™ i3-1115g4 de 11e génération (6 mo de mémoire cache, jusqu‘à 4,1 ghz)                2\n",
       "processeur mobile amd ryzen™ 7 5700u avec carte graphique radeon™                                           1\n",
       "processeur intel® core™ i7-1195g7 de 11e génération (12 mo de mémoire cache, jusqu‘à 5,0 ghz)               1\n",
       "processeur intel® core™ i7-11390h de 11e génération (12 mo de mémoire cache, jusqu‘à 5,0 ghz)               1\n",
       "processeur intel® core™ i7-10875h de 10e génération (jusqu’à 5,1 ghz, 8 cœurs, cache 16mo)                  1\n",
       "processeur intel® celeron® n4020 (4 mo de mémoire cache, jusqu‘à 2,8 ghz)                                   1\n",
       "processeur mobile amd ryzen™ 7 3700u avec carte graphique radeon™ vega 10                                   1\n",
       "processeur intel® core™ i7-11370h de 11e génération (12 mo de mémoire cache, jusqu‘à 4,8 ghz)               1\n",
       "processeur intel® pentium® silver n5030 (4 mo de mémoire cache, jusqu‘à 3,1 ghz)                            1\n",
       "processeur intel® core™ i5-11300h de 11e génération (8 mo de mémoire cache, jusqu‘à 4,4 ghz)                1\n",
       "processeur intel® core™ i5-1035g1 de 10e génération (6 mo de mémoire cache, jusqu‘à 3,6 ghz)                1\n",
       "processeur mobile amd ryzen™ 3 3250u avec carte graphique radeon™                                           1\n",
       "processeur mobile amd athlon™ silver 3050u avec carte graphique radeon™                                     1\n",
       "processeur intel® core™ i9-11900h de 11e génération (24 mo de mémoire cache, jusqu‘à 4,9 ghz, 8 coeurs)     1\n",
       "Name: Processeur, dtype: int64"
      ]
     },
     "execution_count": 1883,
     "metadata": {},
     "output_type": "execute_result"
    }
   ],
   "source": [
    "data['Processeur'].value_counts()"
   ]
  },
  {
   "cell_type": "code",
   "execution_count": 1884,
   "metadata": {},
   "outputs": [],
   "source": [
    "# Deux modalités doivent être renommées manuellement avant d'appliquer la fonction car elle contiennent à la fois \"avec\" et \"coeurs\"\n",
    "\n",
    "data['Processeur'] = np.where(data['Processeur'] != \"processeur mobile amd ryzen™ 7 5700u 8 coeurs/16 threads avec carte graphique radeon™\", data['Processeur'], \"5700\")\n",
    "data['Processeur'] = np.where(data['Processeur'] != \"processeur mobile amd ryzen™ 5 5500u 6 coeurs/12 threads avec carte graphique radeon™\", data['Processeur'], \"5500\")\n",
    "\n",
    "# on tranforme les \"phrases\" en une chaine de caractères en enlevant les espaces\n",
    "data['Processeur']=data['Processeur'].apply(lambda x: x.replace(\" \", \"\"))\n",
    "\n",
    "\n",
    "# Fonction qui permet de garder la taille du processeur uniquement  \n",
    "def fonction(x):\n",
    "    if x.find(\"ghz\") != -1:\n",
    "        index=x.find(\"ghz\")\n",
    "        x=x.replace(x[:],x[index-3:index])\n",
    "        return x\n",
    "    \n",
    "    \n",
    "        \n",
    "    if x.find(\"avec\") != -1:\n",
    "        index=x.find(\"avec\")\n",
    "        x=x.replace(x[:],x[index-5:index-1])\n",
    "        return x\n",
    "    else : return x\n",
    "  \n",
    "    \n",
    "#on applique la fonction à notre variable \n",
    "data['Processeur']=data['Processeur'].apply(fonction)\n",
    "\n",
    "#on remplace les . par , afin d'harmoniser toutes les modalités\n",
    "data['Processeur']=data['Processeur'].apply(lambda x: \"5,0\" if x==\"5.0\" else x)\n",
    "data['Processeur']=data['Processeur'].apply(lambda x: \"4,5\" if x==\"4.5\" else x)\n",
    "\n",
    "\n",
    "#on rename la colonne \n",
    "data.rename(columns={'Processeur': 'vitesse du processeur en GHZ'}, inplace=True)"
   ]
  },
  {
   "cell_type": "code",
   "execution_count": 1885,
   "metadata": {},
   "outputs": [
    {
     "data": {
      "text/plain": [
       "4,7     14\n",
       "4,6     12\n",
       "4,5     11\n",
       "5,0     10\n",
       "4,2      8\n",
       "5700     5\n",
       "4,8      4\n",
       "5500     4\n",
       "4,1      2\n",
       "3450     2\n",
       "3,7      2\n",
       "5,1      1\n",
       "2,8      1\n",
       "3700     1\n",
       "4,4      1\n",
       "3,1      1\n",
       "3,6      1\n",
       "3250     1\n",
       "3050     1\n",
       "4,9      1\n",
       "Name: vitesse du processeur en GHZ, dtype: int64"
      ]
     },
     "execution_count": 1885,
     "metadata": {},
     "output_type": "execute_result"
    }
   ],
   "source": [
    "data['vitesse du processeur en GHZ'].value_counts()"
   ]
  },
  {
   "cell_type": "code",
   "execution_count": 1886,
   "metadata": {},
   "outputs": [
    {
     "name": "stdout",
     "output_type": "stream",
     "text": [
      "le nombre de modalités pour la variable processeur est 20\n"
     ]
    }
   ],
   "source": [
    "print(\"le nombre de modalités pour la variable processeur est\",data[\"vitesse du processeur en GHZ\"].nunique())"
   ]
  },
  {
   "cell_type": "markdown",
   "metadata": {},
   "source": [
    "# Variable système d'exploitation"
   ]
  },
  {
   "cell_type": "markdown",
   "metadata": {},
   "source": [
    "Cette variable contient  quatre modalités. On va se contenter de la transformer en variable binaire dont les modalités seront windows 10 et window 11."
   ]
  },
  {
   "cell_type": "code",
   "execution_count": 1889,
   "metadata": {},
   "outputs": [
    {
     "name": "stdout",
     "output_type": "stream",
     "text": [
      "windows 11    70\n",
      "windows 10    13\n",
      "Name: système d'exploitation, dtype: int64\n"
     ]
    }
   ],
   "source": [
    "\n",
    "data[\"système d'exploitation\"].nunique()\n",
    "data[\"système d'exploitation\"].value_counts() \n",
    "\n",
    "#on va renommer chacune des modalités \n",
    "data[\"système d'exploitation\"] = data[\"système d'exploitation\"].map({'windows 11 famille, anglais, néerlandais, français, allemand, italien':'windows 11',\n",
    "                             'windows 10 famille 64 bits, anglais, néerlandais, français, allemand, italien':'windows 10',\n",
    "                             'windows 11 famille (mode s), anglais, néerlandais, français, allemand, italien':'windows 11',\n",
    "                             'windows 10 famille 64 bits, français':'windows 10'},\n",
    "                            )\n",
    "print(data[\"système d'exploitation\"].value_counts() )"
   ]
  },
  {
   "cell_type": "markdown",
   "metadata": {},
   "source": [
    "On a maitenant 2 catégories pour la variable système d'exploitation."
   ]
  },
  {
   "cell_type": "markdown",
   "metadata": {},
   "source": [
    "# Variable mémoire"
   ]
  },
  {
   "cell_type": "markdown",
   "metadata": {},
   "source": [
    "On souhaite garder uniquement la taille de la mémoire en GO"
   ]
  },
  {
   "cell_type": "code",
   "execution_count": 1890,
   "metadata": {},
   "outputs": [
    {
     "data": {
      "text/plain": [
       "16 go, 2 x 8 go, de mémoire ddr4, 3 200 mhz      20\n",
       "8 go, 1 x 8 go de mémoire, ddr4 à 3 200 mhz      10\n",
       "16 go de mémoire intégrée lpddr4x à 4 267 mhz     9\n",
       "8 go, 2 x 4 go, de mémoire ddr4, 3 200 mhz        7\n",
       "8 go de mémoire lpddr4x intégrée à 4 267 mhz      6\n",
       "8 go, 2 x 4 go de mémoire ddr4 à 3 200 mhz        5\n",
       "8 go (1 x 8 go) de mémoire ddr4, 2 666 mhz        5\n",
       "8 go, 1 x 8 go, de mémoire ddr4, 2 400 mhz        4\n",
       "4 go, 1 x 4 go, de mémoire ddr4, 2 400 mhz        3\n",
       "8 go de mémoire intégrée lpddr4x à 4 267 mhz      3\n",
       "32 go (2 x 16 go) de mémoire ddr4 à 3 200 mhz     3\n",
       "8gb, 2x4gb, ddr4, 3200mhz                         2\n",
       "16 go de mémoire lpddr4x intégrée à 3 200 mhz     1\n",
       "32 go, 2 x 16 go, de mémoire ddr4, 3 200 mhz      1\n",
       "16 go de mémoire lpddr4x intégrée à 4 267 mhz     1\n",
       "32 go de mémoire intégrée lpddr4x à 4 267 mhz     1\n",
       "16go ddr4-2933mhz, 2x8go                          1\n",
       "16 go, 2 x 8 go, ddr4, 2 666 mhz                  1\n",
       "Name: mémoire, dtype: int64"
      ]
     },
     "execution_count": 1890,
     "metadata": {},
     "output_type": "execute_result"
    }
   ],
   "source": [
    "data['mémoire'].value_counts()"
   ]
  },
  {
   "cell_type": "code",
   "execution_count": 1891,
   "metadata": {},
   "outputs": [],
   "source": [
    "# on ne garde que la taille en GO\n",
    "data['mémoire']=data['mémoire'].apply(lambda x: x.split())\n",
    "data['mémoire']=data['mémoire'].apply(lambda x: x[0])\n",
    "\n",
    "#on rename la colonne \n",
    "data.rename(columns={'mémoire': 'mémoire en GO'}, inplace=True)\n",
    "\n",
    "# on remplace les deux catégories \"8gb\" et \"16 go\"\n",
    "data['mémoire en GO'] = np.where(data['mémoire en GO'] != \"8gb,\",data['mémoire en GO'] , \"8\")\n",
    "data['mémoire en GO'] = np.where(data['mémoire en GO'] != \"16go\",data['mémoire en GO'] , \"16\")\n",
    "\n",
    "\n"
   ]
  },
  {
   "cell_type": "code",
   "execution_count": 1892,
   "metadata": {},
   "outputs": [
    {
     "data": {
      "text/plain": [
       "8     42\n",
       "16    33\n",
       "32     5\n",
       "4      3\n",
       "Name: mémoire en GO, dtype: int64"
      ]
     },
     "execution_count": 1892,
     "metadata": {},
     "output_type": "execute_result"
    }
   ],
   "source": [
    "data['mémoire en GO'].value_counts()"
   ]
  },
  {
   "cell_type": "markdown",
   "metadata": {},
   "source": [
    "On a maintenant 4 type de taille de mémoire pour les ordinateurs."
   ]
  },
  {
   "cell_type": "markdown",
   "metadata": {},
   "source": [
    "# Variable carte vidéo"
   ]
  },
  {
   "cell_type": "markdown",
   "metadata": {},
   "source": [
    "On veut réduire le nombre de modalités de cette variable : on dispose du type de carte graphique que nous allons regrouper en 3 modalités : intel , amd et nvidia"
   ]
  },
  {
   "cell_type": "code",
   "execution_count": 1893,
   "metadata": {},
   "outputs": [
    {
     "data": {
      "text/plain": [
       "carte graphique intel® iris® xe avec mémoire graphique partagée                    22\n",
       "carte graphique intel® iris xe                                                     13\n",
       "carte graphique amd radeon™ avec mémoire graphique partagée                        11\n",
       "carte graphique intel® uhd avec mémoire graphique partagée                          5\n",
       "carte graphique intel® uhd                                                          4\n",
       "carte graphique nvidia® geforce rtx™ 3050 ti avec 4 go de mémoire gddr6 [45 w]      4\n",
       "carte graphique nvidia® geforce rtx™ 3050 avec 4 go de mémoire gddr6                4\n",
       "carte graphique nvidia® geforce® mx350 avec 2 go de mémoire gddr5                   3\n",
       "carte graphique nvidia® geforce rtx™ 3060 avec 6 go de mémoire gddr6                2\n",
       "carte graphique amd radeon™ vega 8                                                  2\n",
       "intel® uhd graphics with shared graphics memory                                     2\n",
       "carte graphique nvidia® geforce rtx™ 3050 avec 4 go de mémoire gddr6 [60 w]         2\n",
       "carte graphique intel® uhd 600 avec mémoire graphique partagée                      1\n",
       "carte nvidia® geforce rtx™ 2060 avec 6 go de mémoire gddr6 et technologie max-q     1\n",
       "carte graphique nvidia® geforce® mx450 avec 2 go de mémoire gddr5                   1\n",
       "carte graphique nvidia(r) geforcertx ™ 3050 ti avec 4 go de mémoire gddr6           1\n",
       "carte graphique intel® iris® xe max avec 4 go de mémoire lpddr4x                    1\n",
       "carte graphique nvidia® geforce gtx® 1650 avec 4 go de mémoire gddr6                1\n",
       "carte graphique intel® uhd 605 avec mémoire graphique partagée                      1\n",
       "carte graphique amd radeon™ rx vega 10                                              1\n",
       "carte graphique nvidia® geforce rtx™ 3060 avec 6 go de mémoire gddr6 [70 w]         1\n",
       "Name:  carte vidéo, dtype: int64"
      ]
     },
     "execution_count": 1893,
     "metadata": {},
     "output_type": "execute_result"
    }
   ],
   "source": [
    "#variable carte vidéo\n",
    "\n",
    "data[' carte vidéo'].value_counts()"
   ]
  },
  {
   "cell_type": "code",
   "execution_count": 1894,
   "metadata": {},
   "outputs": [],
   "source": [
    "#on remarque qu'une des modalités est en anglais on la met en francais :\n",
    "data[\" carte vidéo\"] = np.where(data[\" carte vidéo\"] != \"intel® uhd graphics with shared graphics memory\", data[\" carte vidéo\"], \"carte graphique intel® uhd avec mémoire graphique partagée\")"
   ]
  },
  {
   "cell_type": "code",
   "execution_count": 1895,
   "metadata": {},
   "outputs": [],
   "source": [
    "# on tranforme les \"phrases\" en une chaine de caractères en enlevant les espaces\n",
    "data[\" carte vidéo\"]=data[\" carte vidéo\"].apply(lambda x: x.replace(\" \", \"\"))\n",
    "# on crée une fonction qui permet de garder la taille de la mémoire uniquement  \n",
    "def fonction(x):\n",
    "    if x.find(\"graphique\") != -1:\n",
    "        index=x.find(\"graphique\")\n",
    "        x=x.replace(x[:],x[index+9:index+15])\n",
    "        return x\n",
    "    else :\n",
    "        return x\n",
    "    \n",
    "    \n",
    "        \n",
    "#on applique la fonction à notre variable \n",
    "data[\" carte vidéo\"]=data[\" carte vidéo\"].apply(fonction)\n"
   ]
  },
  {
   "cell_type": "code",
   "execution_count": 1896,
   "metadata": {},
   "outputs": [
    {
     "name": "stdout",
     "output_type": "stream",
     "text": [
      "intel®                                                                49\n",
      "nvidia                                                                19\n",
      "amdrad                                                                14\n",
      "cartenvidia®geforcertx™2060avec6godemémoiregddr6ettechnologiemax-q     1\n",
      "Name:  carte vidéo, dtype: int64\n"
     ]
    }
   ],
   "source": [
    "\n",
    "\n",
    "print(data[' carte vidéo'].value_counts())\n"
   ]
  },
  {
   "cell_type": "code",
   "execution_count": 1897,
   "metadata": {},
   "outputs": [],
   "source": [
    "#on va renommer chacune des modalités \n",
    "data[\" carte vidéo\"] = data[\" carte vidéo\"].map({\"amdrad\":'amd',\n",
    "                             'intel®':'intel',\n",
    "                             'cartenvidia®geforcertx™2060avec6godemémoiregddr6ettechnologiemax-q':'nvidia','nvidia':'nvidia'}\n",
    "                            )\n"
   ]
  },
  {
   "cell_type": "code",
   "execution_count": 1898,
   "metadata": {},
   "outputs": [
    {
     "name": "stdout",
     "output_type": "stream",
     "text": [
      "intel     49\n",
      "nvidia    20\n",
      "amd       14\n",
      "Name:  carte vidéo, dtype: int64\n"
     ]
    }
   ],
   "source": [
    "\n",
    "print(data[\" carte vidéo\"].value_counts() )"
   ]
  },
  {
   "cell_type": "code",
   "execution_count": 1827,
   "metadata": {},
   "outputs": [
    {
     "name": "stdout",
     "output_type": "stream",
     "text": [
      "Il y a après nettoyage 3 catégories de carte vidéo\n"
     ]
    }
   ],
   "source": [
    "print(\"Il y a après nettoyage\", data[\" carte vidéo\"].nunique(),\"catégories de carte vidéo\")"
   ]
  },
  {
   "cell_type": "markdown",
   "metadata": {},
   "source": [
    "# Variable écran"
   ]
  },
  {
   "cell_type": "markdown",
   "metadata": {},
   "source": [
    "On va extraire l'information sur la taille en pouce de l'écran des ordinateurs."
   ]
  },
  {
   "cell_type": "code",
   "execution_count": 1828,
   "metadata": {},
   "outputs": [
    {
     "data": {
      "text/plain": [
       "écran non tactile full hd (1 920 x 1 080) de 15,6 pouces à grand angle de vue, avec technologie antireflet et rétroéclairage par led, bordure fine    13\n",
       "écran non tactile full hd (1 920 x 1 080) de 14,0 pouces à grand angle de vue, avec technologie antireflet et rétroéclairage par led, bordure fine     9\n",
       "écran tactile 14\" fhd (1 920 x 1 080) à grand angle de vue, avec technologie truelife et bordure fine                                                  7\n",
       "écran 16 pouces 16:10 3k (3 072 x 1 920) ips antireflet non tactile, 300 cd/m², srvb 100 %                                                             5\n",
       "écran non tactile 15,6 pouces full hd (1 920 x 1 080), antireflet et led rétroéclairé, bordure fine, 300 cd/m², grand angle de vue                     5\n",
       "écran tactile 17 pouces qhd+ (2 560 x 1 600) avec technologies truelife et ips et bordure fine                                                         4\n",
       "écran infinityedge fhd+ (1 920 x 1200) de 13,4\", non tactile, antireflet, 500 cd/m²                                                                    4\n",
       "écran 15,6 pouces non tactile fhd (1 920 x 1 080) avec grand angle de vue, antireflet, rétroéclairage par led et bordure fine                          4\n",
       "écran 15,6\" fhd+ (1920 x 1200) infinityedge, non tactile, antireflet, 500cd/m²                                                                         4\n",
       "écran non tactile 13,3 pouces qhd+ 16:10 (2 560 x 1 600), antireflet, bordure fine, 300 cd/m², grand angle de vue                                      3\n",
       "écran infinityedge fhd+ (1 920 x 1200) de 17,0\", non tactile, antireflet, 500 cd/m²                                                                    3\n",
       "écran infinityedge uhd+ (3 840 x 2 400) de 17,0\", tactile, antireflet, 500 cd/m²                                                                       2\n",
       "écran tactile 13,4\" uhd+ wled 16:10 (3 840 x 2 400)                                                                                                    2\n",
       "écran tactile 13,4\" fhd+ wled 16:10 (1 920 x 1 200)                                                                                                    2\n",
       "écran infinityedge uhd+ (3840 x 2400) de 13,4\", tactile, antireflet, 500 cd/m²                                                                         2\n",
       "écran non tactile hd (1 366 x 768) 15,6 pouces antireflet à bordures fines et rétroéclairage led                                                       2\n",
       "écran non tactile 13,3\" infinityedge full hd (1 920 x 1 080)                                                                                           2\n",
       "écran tactile 15,6\" full hd (1 920 x 1 080) à bordure fine avec technologies truelife et wva, stylet actif pris en charge                              2\n",
       "écran non tactile 13,3 pouces fhd+ 16:10 (1 920 x 1 200), antireflet, bordure fine, 300 cd/m², grand angle de vue                                      2\n",
       "écran 15,6\" uhd (3 840 x 2 160) à bordure fine avec technologies truelife, et wva, stylet actif pris en charge                                         1\n",
       "écran tactile 13,3\" infinityedge 4k ultra hd (3 840 x 2 160)                                                                                           1\n",
       "écran non tactile 15,6\" full hd (1 920 x 1 080) antireflet avec technologie wva, rétroéclairage par led et bordure fine                                1\n",
       "écran tactile 13,3\" full hd (1 920 x 1 080) à bordure fine avec technologies truelife et wva, stylet actif pris en charge                              1\n",
       "écran 14,5\" 16:10 qhd+ (2 560 x 1 600) ips antireflet non tactile, 300 cd/m², srvb 100 %                                                               1\n",
       "écran 15,6\" uhd+ (3840 x 2400) infinityedge, tactile, antireflet, 500cd/m²                                                                             1\n",
       "Name:  écran, dtype: int64"
      ]
     },
     "execution_count": 1828,
     "metadata": {},
     "output_type": "execute_result"
    }
   ],
   "source": [
    "data[\" écran\"].value_counts()"
   ]
  },
  {
   "cell_type": "markdown",
   "metadata": {},
   "source": [
    "On remarque que l'on a 7 différentes tailles d'ordinateurs en pouces : 15,6 ; 14 ; 16 ; 17 ; 13,4 ; 13,3 ; 14,5. On crée alors 7 modalités pour la variable écran."
   ]
  },
  {
   "cell_type": "code",
   "execution_count": 1899,
   "metadata": {},
   "outputs": [],
   "source": [
    "# Avant d'appliquer la fonction on modifie les modalités où \"16:\" apparait car sinon elles vont etre catégorisés comme des ordis de 16 pouces \n",
    "\n",
    "data[\" écran\"] = np.where(data[\" écran\"] != \"\"\"écran 14,5\" 16:10 qhd+ (2 560 x 1 600) ips antireflet non tactile, 300 cd/m², srvb 100 %\"\"\", data[\" écran\"], \"14,5\")                            \n",
    "data[\" écran\"] = np.where(data[\" écran\"] != \"écran non tactile 13,3 pouces fhd+ 16:10 (1 920 x 1 200), antireflet, bordure fine, 300 cd/m², grand angle de vue\",data[\" écran\"], \"13,3\")     \n",
    "\n",
    "data[\" écran\"] = np.where(data[\" écran\"] != \"\"\"écran tactile 13,4\" fhd+ wled 16:10 (1 920 x 1 200)\"\"\",data[\" écran\"], \"13,4\")   \n",
    "data[\" écran\"] = np.where(data[\" écran\"] != \"\"\"écran tactile 13,4\" uhd+ wled 16:10 (3 840 x 2 400)\"\"\",data[\" écran\"], \"13,4\")   \n",
    "data[\" écran\"] = np.where(data[\" écran\"] != \"\"\"écran non tactile 13,3 pouces qhd+ 16:10 (2 560 x 1 600), antireflet, bordure fine, 300 cd/m², grand angle de vue\"\"\",data[\" écran\"], \"13,3\")   \n",
    "data[\" écran\"] = np.where(data[\" écran\"] != \"\"\"écran 16 pouces 16:10 3k (3 072 x 1 920) ips antireflet non tactile, 300 cd/m², srvb 100 %\"\"\",data[\" écran\"], \"16,0\")   \n",
    "\n"
   ]
  },
  {
   "cell_type": "code",
   "execution_count": 1900,
   "metadata": {},
   "outputs": [],
   "source": [
    "# Fonction permettant de remplacer les modalités par la taille en pouce qui correspond\n",
    "\n",
    "def fonctionn(x):\n",
    "    if x.find(\"15,6\") != -1:\n",
    "        x=\"15,6\"\n",
    "        return x\n",
    "    elif x.find(\"14,0\") != -1:\n",
    "        x=\"14,0\"\n",
    "        return x\n",
    "    elif x.find(\"\"\" 14\" \"\"\") != -1:\n",
    "        x=\"14,0\"\n",
    "        return x\n",
    "    elif x.find(\"17,0\") != -1:\n",
    "        x=\"17,0\"\n",
    "        return x\n",
    "    elif x.find(\"17\") != -1:\n",
    "        x=\"17,0\"\n",
    "        return x\n",
    "    elif x.find(\"13,4\") != -1:\n",
    "        x=\"13,4\"\n",
    "        return x\n",
    "    elif x.find(\"13,3\") != -1:\n",
    "        x=\"13,3\"\n",
    "        return x\n",
    "    \n",
    "    else:\n",
    "        return x\n",
    "    \n",
    "# On applique la fonction à la variable\n",
    "data[' écran']=data[' écran'].apply(fonctionn)\n",
    "\n",
    "# On renomme la colonne\n",
    "data.rename(columns={' écran': 'écran en pouces'},inplace=True)"
   ]
  },
  {
   "cell_type": "code",
   "execution_count": 1831,
   "metadata": {},
   "outputs": [
    {
     "data": {
      "text/plain": [
       "15,6    33\n",
       "14,0    16\n",
       "13,4    10\n",
       "13,3     9\n",
       "17,0     9\n",
       "16,0     5\n",
       "14,5     1\n",
       "Name: écran en pouces, dtype: int64"
      ]
     },
     "execution_count": 1831,
     "metadata": {},
     "output_type": "execute_result"
    }
   ],
   "source": [
    "data['écran en pouces'].value_counts()\n"
   ]
  },
  {
   "cell_type": "markdown",
   "metadata": {},
   "source": [
    "On a désormais 7 modalités de taille d'écran en pouces."
   ]
  },
  {
   "cell_type": "markdown",
   "metadata": {},
   "source": [
    "# Variable dimensions et poids"
   ]
  },
  {
   "cell_type": "markdown",
   "metadata": {},
   "source": [
    "Nous allons conserver le poids de l'ordinateur car nous avons déjà une variable taille de l'écran."
   ]
  },
  {
   "cell_type": "code",
   "execution_count": 1901,
   "metadata": {},
   "outputs": [
    {
     "data": {
      "text/plain": [
       "hauteur : 14,8 mm (0,58\")\\nlargeur : 295,7 mm (11,64\")\\nprofondeur : 198,7 mm (7,82\")\\npoids de départ : 1,2 kg (2,64 lb)* pour les écrans non tactiles ; 1,27 kg (2,8 lb)* pour les écrans tactiles                                                                                                                                                                                                 6\n",
       "hauteur (avant) : 17,50 mm (0,68 po) x hauteur (arrière) : 18,99 mm (0,74 po) x largeur : 358,50 mm (14,11 po) x profondeur : 235,56 (9,27 po) x poids : 1,85 kg (4,07 livres)*                                                                                                                                                                                                                      6\n",
       "hauteur (avant) : 16,72 mm (0,66\"), hauteur (arrière) : 18,99 mm (0,75\") x largeur : 356,06 mm (14,02\") x profondeur : 228,90 mm (9,01\") | poids de départ : 1,895 kg (4,18 lb)*                                                                                                                                                                                                                     5\n",
       "webcam hd rvb 720p à 30 ips, doubles microphones                                                                                                                                                                                                                                                                                                                                                     5\n",
       "1 logement de carte sd                                                                                                                                                                                                                                                                                                                                                                               5\n",
       "hauteur (arrière) : 17,99 mm (0,71\")\\nhauteur (avant) : 17,02 mm (0,67\")\\nlargeur : 321,27 mm (12,65\")\\nprofondeur : 212,8 mm (8,38\")\\npoids de départ : 1,461 kg (3,22 lb)*                                                                                                                                                                                                                         5\n",
       "hauteur : 18 mm (0,71\")  \\nlargeur : 344,72 mm (13,57\")  \\nprofondeur : 230,14 mm (9,06\")  \\npoids de départ : 1,81 kg (3,99 lb)* pour le système non tactile avec batterie 56 wh ; 1,92 kg (4,22 lb)* pour le système non tactile avec batterie 86 wh ; 2,01 kg (4,42 lb)* pour le système tactile 4k+ avec batterie 86 wh ; 1,96 kg (4,31 lb)* pour le système tactile oled avec batterie 86 wh    5\n",
       "hauteur : 17,50 à 18,99 mm (0,68 à 0,74\")\\nlargeur : 358,50 mm (14,11\")\\nprofondeur : 235,56 mm (9,27\")\\npoids de départ : 1,69 kg (3,72 lb)*                                                                                                                                                                                                                                                        5\n",
       "hauteur (avant) : 16,80 mm (0,66\"), hauteur (arrière) : 18,99 mm (0,75\") x largeur : 355,28 mm (13,99\") x profondeur : 247,50 mm (9,74\") | poids (maximal) : 2,011 kg (4,43 lb)*                                                                                                                                                                                                                     5\n",
       "hauteur : 17,02 mm à 17,99 mm (0,67\" à 0,71\") x largeur : 321,27 mm (12,65\") x profondeur : 212,8 mm (8,38\")\\npoids de départ : 1,442 kg (3,18 lb)*                                                                                                                                                                                                                                                  4\n",
       "hauteur : 16,32 mm (0,64 \") - 18,30 mm (0,71 \") x largeur : 321,50 mm (12,66 \") x profondeur : 211,35 mm (8,32 \") x poids de départ : 1,65 kg (3,64 livres)*                                                                                                                                                                                                                                         4\n",
       "hauteur : 19,5 mm (0,77\")\\nlargeur : 374,45 mm (14,74\")\\nprofondeur : 248,05 mm (9,76\")\\npoids de départ : 2,21 kg (4,87 lb)*, pour la technologie non tactile, avec la batterie 97 wh ; 2,42 kg (5,34 lb)* pour la technologie tactile avec batterie 97 wh                                                                                                                                          4\n",
       "hauteur : 14,35 mm (0,56\") x largeur : 297 mm (11,69\") x profondeur : 207 mm (8,15\") | poids : à partir de 1,32 kg (2,9 lb)*                                                                                                                                                                                                                                                                         4\n",
       "hauteur : 15,8 mm (0,62\")\\nlargeur : 302 mm (11,9\")\\nprofondeur : 199 mm (7,8\")\\npoids : à partir de 1,16 kg (2,6 lb) non tactile, 1,23 kg (2,7 lb) tactile*                                                                                                                                                                                                                                         3\n",
       "hauteur (avant) : 0,60 po (15,26 mm)\\nhauteur (arrière) : 0,76 po (19,30 mm)\\nlargeur : 14,95 po (379,80 mm)\\nprofondeur : 10,49 po (266,40 mm)\\npoids de départ : 4,94 livres (2,24 kg)\\npoids (maximum) : 5,36 livres (2,43 kg)                                                                                                                                                                    3\n",
       "hauteur (arrière) : 17,94 mm (0,71\")\\nhauteur (avant) : 16,40 mm (0,65\")\\nlargeur : 356,20 mm (14,02\")\\nprofondeur : 238,40 mm (9,39\")\\npoids de départ : 1,903 kg (4,20 lb)\\npoids (maximum) : 1,95 kg (4,30 lb)                                                                                                                                                                                    3\n",
       "hauteur : 16,32 mm (0,64\") - 18,30 mm (0,71\") x largeur : 321,50 mm (12,66\") x profondeur : 211,35 mm (8,32\")\\npoids de départ : 3,43 lb (1,56 kg)*                                                                                                                                                                                                                                                  3\n",
       "hauteur : 14,6 à 17,99 mm (0,57 à 0,71\") x largeur : 356,06 mm (14,02\") x profondeur : 228,9 mm (9,01\") \\npoids de départ : 1,643 kg (3,62 lb)*                                                                                                                                                                                                                                                      2\n",
       "hauteur (avant) : 17,50 mm (0,68\")\\nhauteur (arrière) : 18,99 mm (0,74\") \\nlargeur : 358,50 mm (14,11\") \\nprofondeur : 235,56 mm (9,27\") \\npoids : 1,85 kg (4,07 lb)                                                                                                                                                                                                                                 2\n",
       "hauteur (avant) : 14,25 mm (0,56 pouce)\\nhauteur (arrière) : 16,75 mm (0,66 pouce)\\nlargeur : 321,69 mm (12,66 pouces)\\nprofondeur : 224,53 mm (8,84 pouces)\\npoids (maximal) : 1,35 kg (2,98 lb)                                                                                                                                                                                                    1\n",
       "webcam hd rgb 720p à 30 ips, doubles microphones numériques                                                                                                                                                                                                                                                                                                                                          1\n",
       "platinum silver :\\nhauteur : 15,70 mm - 15,94 mm (0,62-0,63\") x largeur : 305,19 mm (12,02\") x profondeur : 197,80 mm (7,79\")\\npoids de départ : 1,23 kg (2,71 lb)*\\n\\nelement black :\\nhauteur : 15,94 mm - 16,74 mm (0,63-0,66\") x largeur : 305,19 mm (12,02\") x profondeur : 206,40 mm (8,13\")\\npoids de départ : 1,274 kg (2,81 lb)*                                                            1\n",
       "hauteur (arrière) : 19,5 mm (0,77\")\\nlargeur : 374,45 mm (14,74\")\\nprofondeur : 248,05 mm (9,76\")\\npoids de départ : 2,11 kg (4,65 lb)*\\npoids (maximum) : 2,51 kg (5,53 lb)*                                                                                                                                                                                                                        1\n",
       "Name: dimensions et poids, dtype: int64"
      ]
     },
     "execution_count": 1901,
     "metadata": {},
     "output_type": "execute_result"
    }
   ],
   "source": [
    "data[\"dimensions et poids\"].value_counts()"
   ]
  },
  {
   "cell_type": "code",
   "execution_count": 1902,
   "metadata": {},
   "outputs": [],
   "source": [
    "# on transforme les \"phrases\" en une chaine de caractères en enlevant les espaces\n",
    "data['dimensions et poids']=data['dimensions et poids'].apply(lambda x: x.replace(\" \", \"\"))\n",
    "\n",
    "# Fonction qui permet de garder le poids en kg uniquement  \n",
    "def fonction(x):\n",
    "    \n",
    "    index=x.find(\"poids\")\n",
    "    x=x.replace(x[:],x[index+14:index + 18])\n",
    "    return x\n",
    "    \n",
    "\n",
    "# on applique la fonction à notre variable \n",
    "data['dimensions et poids']=data['dimensions et poids'].apply(fonction)"
   ]
  },
  {
   "cell_type": "code",
   "execution_count": 1903,
   "metadata": {},
   "outputs": [
    {
     "data": {
      "text/plain": [
       ",07l    8\n",
       "0pà3    6\n",
       "1,2k    6\n",
       "1,46    5\n",
       "1,89    5\n",
       ":2,0    5\n",
       "1,69    5\n",
       "1,81    5\n",
       "rtes    5\n",
       "e1,3    4\n",
       "2,21    4\n",
       "1,65    4\n",
       "1,44    4\n",
       "1,90    3\n",
       "3,43    3\n",
       "4,94    3\n",
       "e1,1    3\n",
       "1,64    2\n",
       ":1,3    1\n",
       "1,23    1\n",
       "2,11    1\n",
       "Name: dimensions et poids, dtype: int64"
      ]
     },
     "execution_count": 1903,
     "metadata": {},
     "output_type": "execute_result"
    }
   ],
   "source": [
    "data['dimensions et poids'].value_counts()"
   ]
  },
  {
   "cell_type": "markdown",
   "metadata": {},
   "source": [
    "En utilisant la fonction value_counts() on remarque que certaines catégories de poids ne sont pas bien affichées:\n",
    "par exemple la catégorie \",07l\" correspond aux ordinateurs ayant un poids de départ de 1,85 kg. \n"
   ]
  },
  {
   "cell_type": "code",
   "execution_count": 1905,
   "metadata": {},
   "outputs": [],
   "source": [
    "# On remplace les modalités qui ne correspondent pas au poids par le poids correspondant\n",
    "data['dimensions et poids'] = np.where(data['dimensions et poids'] != \",07l\", data['dimensions et poids'], \"1,85\")\n",
    "data['dimensions et poids'] = np.where(data['dimensions et poids'] != \"0pà3\", data['dimensions et poids'], np.nan) #pas de poids pour cette catégorie\n",
    "data['dimensions et poids'] = np.where(data['dimensions et poids'] != \"1,2k\", data['dimensions et poids'], \"1,2\")\n",
    "data['dimensions et poids'] = np.where(data['dimensions et poids'] != \"rtes\", data['dimensions et poids'], np.nan) #pas de poids\n",
    "data['dimensions et poids'] = np.where(data['dimensions et poids'] != \":2,0\", data['dimensions et poids'], \"2,0\")\n",
    "data['dimensions et poids'] = np.where(data['dimensions et poids'] != \"e1,3\", data['dimensions et poids'], \"1,32\")\n",
    "data['dimensions et poids'] = np.where(data['dimensions et poids'] != \"3,43\", data['dimensions et poids'], \"1,56\") #on convertis les lb  en kg\n",
    "data['dimensions et poids'] = np.where(data['dimensions et poids'] != \"4,94\", data['dimensions et poids'], \"2,24\") #on convertis aussi\n",
    "data['dimensions et poids'] = np.where(data['dimensions et poids'] != \"e1,1\", data['dimensions et poids'], \"1,16\") \n",
    "data['dimensions et poids'] = np.where(data['dimensions et poids'] != \":1,3\", data['dimensions et poids'], \"1,35\") \n",
    "\n",
    "\n",
    "\n",
    "\n"
   ]
  },
  {
   "cell_type": "code",
   "execution_count": 1906,
   "metadata": {},
   "outputs": [],
   "source": [
    "#on rename la colonne \n",
    "data.rename(columns={'dimensions et poids': 'poids en kg'}, inplace=True)\n"
   ]
  },
  {
   "cell_type": "code",
   "execution_count": 1907,
   "metadata": {},
   "outputs": [
    {
     "name": "stdout",
     "output_type": "stream",
     "text": [
      "1,85    8\n",
      "1,2     6\n",
      "1,69    5\n",
      "1,81    5\n",
      "1,89    5\n",
      "2,0     5\n",
      "1,46    5\n",
      "1,65    4\n",
      "1,44    4\n",
      "1,32    4\n",
      "2,21    4\n",
      "1,90    3\n",
      "1,56    3\n",
      "2,24    3\n",
      "1,16    3\n",
      "1,64    2\n",
      "1,35    1\n",
      "1,23    1\n",
      "2,11    1\n",
      "Name: poids en kg, dtype: int64\n",
      "il y a  19 modalités pour la variable poids en kg\n"
     ]
    }
   ],
   "source": [
    "print(data['poids en kg'].value_counts())\n",
    "print(\"Il y a \",data['poids en kg'].nunique(),\"modalités pour la variable poids en kg\")"
   ]
  },
  {
   "cell_type": "markdown",
   "metadata": {},
   "source": [
    "# Variable appareil photo "
   ]
  },
  {
   "cell_type": "markdown",
   "metadata": {},
   "source": [
    "On décide de ne pas garder cette variable car elle n'est pas pertinente pour notre analyse"
   ]
  },
  {
   "cell_type": "code",
   "execution_count": 1839,
   "metadata": {},
   "outputs": [
    {
     "data": {
      "text/plain": [
       "webcam hd 720p et 30 images par seconde\\ndouble microphone                                                                                                                                                15\n",
       "webcam rvb hd, 720p à 30 ips\\ndouble microphone                                                                                                                                                            7\n",
       "webcam hd (720p) écran large de 2,25 mm                                                                                                                                                                    6\n",
       "webcam hd 720p et 30 ips, microphone simple                                                                                                                                                                6\n",
       "haut-parleurs stéréo avec technologie waves maxxaudio® pro, 2,5 w x 2 = 5 w au total\\nconnexion audio numérique 2.1 utilisant une sortie hdmi\\nport casque 3,50 mm (combiné pour casque et microphone)     5\n",
       "hauteur (avant) : 14,6 mm (0,57\")\\nhauteur (arrière) : 17,99 mm (0,71\")\\nlargeur : 356,06 mm (14,02\")\\nprofondeur : 228,9 mm (9,01\")\\npoids de départ : 1,633 kg (3,6 lb)*                                 5\n",
       "webcam hd 720p et 30 ips, double microphone                                                                                                                                                                5\n",
       "webcam hd 720p et 30 images par seconde                                                                                                                                                                    5\n",
       "webcam hd 720p et 30 i/s, double microphone                                                                                                                                                                4\n",
       "webcam hd rvb ir 720p et 30 ips face à l’utilisateur\\nmicrophones numériques matriciels                                                                                                                    4\n",
       "écran large hd (720p) webcam 2,25 mm ; double microphone numérique\\nwebcam infrarouge                                                                                                                      4\n",
       "webcam hd rgbir 720p et 30 ips\\ndouble microphone numérique                                                                                                                                                3\n",
       "webcam hd rgb 720p à 30 ips, doubles microphones numériques                                                                                                                                                3\n",
       "2,25 mm 720p à 30 i/s, hd, microphones numériques                                                                                                                                                          3\n",
       "webcam hd 720p à 30 ips, microphone simple                                                                                                                                                                 2\n",
       "webcam hd 1 280 x 720 à 30 ips\\ndouble microphone                                                                                                                                                          2\n",
       "720 p à 30 ips, webcam rvb hd, double microphone dans l’ensemble webcam.                                                                                                                                   1\n",
       "haut-parleurs stéréo dotés de la technologie waves maxxaudio® pro, 2 w x 2\\ncodec realtek® alc3204                                                                                                         1\n",
       "montée de gamme :\\nwebcam rvb-ir hd, 720p à 30 ips\\ndouble microphone numérique\\n\\nréférence :\\nwebcam rvb hd, 720p à 30 ips\\ndouble microphone numérique                                                  1\n",
       "webcam hd rgbir 720p à 30 ips, doubles microphones                                                                                                                                                         1\n",
       "Name: appareil photo, dtype: int64"
      ]
     },
     "execution_count": 1839,
     "metadata": {},
     "output_type": "execute_result"
    }
   ],
   "source": [
    "data[\"appareil photo\"].value_counts()"
   ]
  },
  {
   "cell_type": "markdown",
   "metadata": {},
   "source": [
    "On remarque que certaines modalités de la variable appareil photo ne correspondent pas à des caractéristiques de l'appareil photo mais concernent les hauts parleurs ou le poids de l'ordinateur. Nous remplacons alors ces modalités par des valeurs manquantes de type nan."
   ]
  },
  {
   "cell_type": "code",
   "execution_count": 1908,
   "metadata": {},
   "outputs": [],
   "source": [
    "data['appareil photo'] = np.where(data['appareil photo'] != \"haut-parleurs stéréo dotés de la technologie waves maxxaudio® pro, 2 w x 2\\ncodec realtek® alc3204\", data['appareil photo'], np.nan) \n",
    "data['appareil photo'] = np.where(data['appareil photo'] != \"\"\"hauteur (avant) : 14,6 mm (0,57\")\\nhauteur (arrière) : 17,99 mm (0,71\")\\nlargeur : 356,06 mm (14,02\")\\nprofondeur : 228,9 mm (9,01\")\\npoids de départ : 1,633 kg (3,6 lb)*\"\"\", data['appareil photo'], np.nan) \n",
    "data['appareil photo'] = np.where(data['appareil photo'] != \"haut-parleurs stéréo avec technologie waves maxxaudio® pro, 2,5 w x 2 = 5 w au total\\nconnexion audio numérique 2.1 utilisant une sortie hdmi\\nport casque 3,50 mm (combiné pour casque et microphone)\", data['appareil photo'], np.nan) \n",
    "data['appareil photo'] = np.where(data['appareil photo'] != \"haut-parleurs stéréo avec technologie waves maxxaudio® pro, 2,5 w x 2 = 5 w au total\\nconnexion audio numérique 2.1 utilisant une sortie hdmi\\nport casque 3,50 mm (combiné pour casque et microphone)\", data['appareil photo'], np.nan) \n"
   ]
  },
  {
   "cell_type": "code",
   "execution_count": 1841,
   "metadata": {},
   "outputs": [
    {
     "data": {
      "text/plain": [
       "webcam hd 720p et 30 images par seconde\\ndouble microphone                                                                                                   15\n",
       "webcam rvb hd, 720p à 30 ips\\ndouble microphone                                                                                                               7\n",
       "webcam hd 720p et 30 ips, microphone simple                                                                                                                   6\n",
       "webcam hd (720p) écran large de 2,25 mm                                                                                                                       6\n",
       "webcam hd 720p et 30 ips, double microphone                                                                                                                   5\n",
       "webcam hd 720p et 30 images par seconde                                                                                                                       5\n",
       "écran large hd (720p) webcam 2,25 mm ; double microphone numérique\\nwebcam infrarouge                                                                         4\n",
       "webcam hd 720p et 30 i/s, double microphone                                                                                                                   4\n",
       "webcam hd rvb ir 720p et 30 ips face à l’utilisateur\\nmicrophones numériques matriciels                                                                       4\n",
       "webcam hd rgbir 720p et 30 ips\\ndouble microphone numérique                                                                                                   3\n",
       "webcam hd rgb 720p à 30 ips, doubles microphones numériques                                                                                                   3\n",
       "2,25 mm 720p à 30 i/s, hd, microphones numériques                                                                                                             3\n",
       "webcam hd 720p à 30 ips, microphone simple                                                                                                                    2\n",
       "webcam hd 1 280 x 720 à 30 ips\\ndouble microphone                                                                                                             2\n",
       "720 p à 30 ips, webcam rvb hd, double microphone dans l’ensemble webcam.                                                                                      1\n",
       "montée de gamme :\\nwebcam rvb-ir hd, 720p à 30 ips\\ndouble microphone numérique\\n\\nréférence :\\nwebcam rvb hd, 720p à 30 ips\\ndouble microphone numérique     1\n",
       "webcam hd rgbir 720p à 30 ips, doubles microphones                                                                                                            1\n",
       "Name: appareil photo, dtype: int64"
      ]
     },
     "execution_count": 1841,
     "metadata": {},
     "output_type": "execute_result"
    }
   ],
   "source": [
    "data['appareil photo'].value_counts()"
   ]
  },
  {
   "cell_type": "markdown",
   "metadata": {},
   "source": [
    "# Variable couleur "
   ]
  },
  {
   "cell_type": "markdown",
   "metadata": {},
   "source": [
    "On ne garde pas cette variable car elle n'est pas pertinente pour notre analyse."
   ]
  },
  {
   "cell_type": "code",
   "execution_count": 1909,
   "metadata": {},
   "outputs": [
    {
     "data": {
      "text/plain": [
       "platinum silver                                                  30\n",
       "carbon black                                                     13\n",
       "platinum silver avec repose-poignets en fibre de carbone noir    10\n",
       "extérieur platinum silver, intérieur noir                         9\n",
       "mist blue                                                         8\n",
       "capot arrière d‘écran lcd silver                                  6\n",
       "platinum silver exterior, black interior                          4\n",
       "capot lcd silver pour écran qhd non tactile                       1\n",
       "capot d‘écran lcd silver                                          1\n",
       "capot arrière d‘écran lcd noir                                    1\n",
       "Name: couleur, dtype: int64"
      ]
     },
     "execution_count": 1909,
     "metadata": {},
     "output_type": "execute_result"
    }
   ],
   "source": [
    "data[\"couleur\"].value_counts()"
   ]
  },
  {
   "cell_type": "markdown",
   "metadata": {},
   "source": [
    "On remarque que on a une redondance dans les types de couleur car une même catégorie est écrit en anglais et en francais. On va donc les rassembler."
   ]
  },
  {
   "cell_type": "code",
   "execution_count": 1910,
   "metadata": {},
   "outputs": [],
   "source": [
    "# On traduit la modalité qui est en anglais en francais.\n",
    "\n",
    "data['couleur']=data['couleur'].apply(lambda x:\"extérieur platinum silver, intérieur noir\" if x == \"platinum silver exterior, black interior\" else x )\n"
   ]
  },
  {
   "cell_type": "code",
   "execution_count": 1911,
   "metadata": {},
   "outputs": [
    {
     "data": {
      "text/plain": [
       "platinum silver                                                  30\n",
       "carbon black                                                     13\n",
       "extérieur platinum silver, intérieur noir                        13\n",
       "platinum silver avec repose-poignets en fibre de carbone noir    10\n",
       "mist blue                                                         8\n",
       "capot arrière d‘écran lcd silver                                  6\n",
       "capot lcd silver pour écran qhd non tactile                       1\n",
       "capot d‘écran lcd silver                                          1\n",
       "capot arrière d‘écran lcd noir                                    1\n",
       "Name: couleur, dtype: int64"
      ]
     },
     "execution_count": 1911,
     "metadata": {},
     "output_type": "execute_result"
    }
   ],
   "source": [
    "data[\"couleur\"].value_counts() "
   ]
  },
  {
   "cell_type": "markdown",
   "metadata": {},
   "source": [
    "On a bien rassemblé les deux catégories"
   ]
  },
  {
   "cell_type": "markdown",
   "metadata": {},
   "source": [
    "# Variable Son et haut parleur "
   ]
  },
  {
   "cell_type": "markdown",
   "metadata": {},
   "source": [
    "On décide de ne pas garder cette variable car elle n'explique pas beaucoup les avis."
   ]
  },
  {
   "cell_type": "code",
   "execution_count": 1912,
   "metadata": {},
   "outputs": [],
   "source": [
    "#on rename la colonne \n",
    "\n",
    "data.rename(columns={' song et haut parleur': 'son et haut parleur'}, inplace=True)"
   ]
  },
  {
   "cell_type": "markdown",
   "metadata": {},
   "source": [
    "On remarque aussi que certaine modalités ne renvoit pas aux caractéristiques des haut parleurs mais à la wifi, l'appareil photo ou encore les matériaux de l'ordinateur : on ne peut donc pas exploiter cette information. On va supprimer les modalités incohérentes."
   ]
  },
  {
   "cell_type": "code",
   "execution_count": 1784,
   "metadata": {},
   "outputs": [
    {
     "data": {
      "text/plain": [
       "haut-parleurs stéréo, 2 x 2 w = 4 w au total                                                                                                                                          20\n",
       "haut-parleur stéréo 2 w                                                                                                                                                                9\n",
       "haut-parleurs stéréo (2,5 w x 2 = 4 w en crête) avec technologie waves maxxaudio® pro                                                                                                  6\n",
       "2 caissons de graves en stéréo de 2,5 w et 2 caissons d’aigus en stéréo de 1,5 w pour un total de 8 w                                                                                  5\n",
       "webcam hd 1 280 x 720 à 30 ips\\ndouble microphone                                                                                                                                      5\n",
       "aluminium                                                                                                                                                                              5\n",
       "intel® wi-fi 6 2x2 (gig+) et bluetooth                                                                                                                                                 5\n",
       "1 port casque (combiné casque et microphone)\\nhaut-parleurs stéréo avec pilote realtek alc3204, 5 w au total (2 x 2,5)                                                                 4\n",
       "2 caissons de graves en stéréo de 2 w et 2 caissons d’aigus en stéréo de 2,5 w pour un total de 5 w                                                                                    4\n",
       "système audio haute définition\\nhaut-parleurs stéréo à équilibrage professionnel avec la technologie waves maxxaudio® pro ; 2 x 2 w = 4 w au total                                     4\n",
       "1 port casque (combiné casque et microphone)\\nhaut-parleurs stéréo avec pilote realtek alc3204, 5 w au total (2,5 x 2)                                                                 3\n",
       "haut-parleurs stéréo équipés de la technologie waves maxxaudio® pro, 2 w                                                                                                               3\n",
       "haut-parleurs stéréo dotés de la technologie waves maxxaudio® pro, 2 w x 2\\ncodec realtek® alc3204                                                                                     3\n",
       "haut-parleurs stéréo à équilibrage professionnel avec la technologie waves maxxaudio® pro ; 2 x 2 w = 4 w au total                                                                     3\n",
       "matériaux de l'extérieur du châssis\\naluminium                                                                                                                                         1\n",
       "haut-parleurs stéréo à équilibrage professionnel avec la technologie waves maxxaudio® pro ; 2 x 2 w = 4 w au total\\n1 port casque (combiné casque et microphone)\\n1 port hdmi™ 2.0     1\n",
       "1 port casque (combiné casque et microphone)\\nhaut-parleurs stéréo avec pilote realtek maxxaudio pro, 4 w au total (2 x 2)\\ndouble microphone numérique                                1\n",
       "woofer stéréo 2,5 w x 2 et tweeter stéréo 1,5 w x 2 = 8 w de puissance totale                                                                                                          1\n",
       "Name: son et haut parleur, dtype: int64"
      ]
     },
     "execution_count": 1784,
     "metadata": {},
     "output_type": "execute_result"
    }
   ],
   "source": [
    "data['son et haut parleur'].value_counts()"
   ]
  },
  {
   "cell_type": "code",
   "execution_count": 1913,
   "metadata": {},
   "outputs": [],
   "source": [
    "# on remplace les modalités non cohérentes par des valeurs manquantes de type nan\n",
    "data['son et haut parleur'] = np.where(data['son et haut parleur'] != \"matériaux de l'extérieur du châssis\\naluminium\", data['son et haut parleur'], np.nan) \n",
    "data['son et haut parleur'] = np.where(data['son et haut parleur'] != \"intel® wi-fi 6 2x2 (gig+) et bluetooth\", data['son et haut parleur'], np.nan) \n",
    "data['son et haut parleur'] = np.where(data['son et haut parleur'] != \"aluminium\", data['son et haut parleur'], np.nan) \n",
    "data['son et haut parleur'] = np.where(data['son et haut parleur'] != \"webcam hd 1 280 x 720 à 30 ips\\ndouble microphone \", data['son et haut parleur'], np.nan) \n"
   ]
  },
  {
   "cell_type": "code",
   "execution_count": 1847,
   "metadata": {},
   "outputs": [
    {
     "name": "stdout",
     "output_type": "stream",
     "text": [
      "le nombre de modalités de notre variable son et haut parleur est 15\n"
     ]
    }
   ],
   "source": [
    "print(\"le nombre de modalités de notre variable son et haut parleur est\",data['son et haut parleur'].nunique())"
   ]
  },
  {
   "cell_type": "markdown",
   "metadata": {},
   "source": [
    "# Variable batterie"
   ]
  },
  {
   "cell_type": "markdown",
   "metadata": {},
   "source": [
    "Pour la variable batterie on veut extraire les wh afin d'avoir une information sur la \"durabilité dans le temps \" de celle ci. A priori, il semble que ce soit une bonne variable explicative des avis qui peuvent être attribués et donc au score attribué à un ordinateur."
   ]
  },
  {
   "cell_type": "code",
   "execution_count": 1787,
   "metadata": {},
   "outputs": [
    {
     "data": {
      "text/plain": [
       "carte killer ax1650 (2x2) basé sur intel wifi 6 + bluetooth 5.1                                                                                                                                                                                                                                                                                                                                                                                                  14\n",
       "batterie à 3 cellules, 41 wh (intégrée)                                                                                                                                                                                                                                                                                                                                                                                                                          13\n",
       "intel® wi-fi 6 2x2 (gig+) et bluetooth                                                                                                                                                                                                                                                                                                                                                                                                                           13\n",
       "intel® wi-fi 6 2x2 (gig+) et bluetooth 5.1                                                                                                                                                                                                                                                                                                                                                                                                                        9\n",
       "killer wi-fi 6 ax1650 (2x2) et bluetooth 5.1                                                                                                                                                                                                                                                                                                                                                                                                                      9\n",
       "batterie à 4 cellules, 54 wh (intégrée)                                                                                                                                                                                                                                                                                                                                                                                                                           5\n",
       "802.11ac 2x2 wi-fi et bluetooth                                                                                                                                                                                                                                                                                                                                                                                                                                   5\n",
       "matériaux de l’extérieur du boîtier\\ncoque extérieure en aluminium                                                                                                                                                                                                                                                                                                                                                                                                5\n",
       "configurations certifiées energy star disponibles\\nrohs chine\\nrohs ue\\ndeee\\ncel\\nloi japonaise relative à l’énergie\\nconfigurations certifiées meps australie disponibles\\nconfigurations certifiées us cec disponibles\\n\\nfiches techniques sur la sécurité des produits, la compatibilité électromagnétique et l’environnement (en anglais)\\npage d’accueil dell de conformité aux normes (en anglais)\\ndell et l’environnement\\n\\nindice de réparabilité     5\n",
       "carte sans fil intel® wi-fi 6 ax200 (2x2) wi-fi + bt 5 le                                                                                                                                                                                                                                                                                                                                                                                                         3\n",
       "intel® wi-fi 6 ax200 2x2 (gig+) + bluetooth 5                                                                                                                                                                                                                                                                                                                                                                                                                     1\n",
       "batterie à 4 cellules, 68 wh (intégrée)                                                                                                                                                                                                                                                                                                                                                                                                                           1\n",
       "Name: batterie principale, dtype: int64"
      ]
     },
     "execution_count": 1787,
     "metadata": {},
     "output_type": "execute_result"
    }
   ],
   "source": [
    "data['batterie principale'].value_counts()"
   ]
  },
  {
   "cell_type": "code",
   "execution_count": 1914,
   "metadata": {},
   "outputs": [],
   "source": [
    "# on transforme les \"phrases\" en une chaine de caractères en enlevant les espaces\n",
    "data['batterie principale']=data['batterie principale'].apply(lambda x: x.replace(\" \", \"\"))\n",
    "\n",
    "# Fonction qui permet de garder le poids uniquement  \n",
    "def fonction(x):\n",
    "    if x.find(\"wh\") != -1:\n",
    "        index=x.find(\"wh\")\n",
    "        x=x.replace(x[:],x[index-2:index])\n",
    "    \n",
    "    \n",
    "        return x\n",
    "    else:\n",
    "        return np.nan # On remarque que certaines modalités ne correspondent pas à notre variable batterie :  on les remplace par des nan\n",
    "\n",
    "#on applique la fonction à notre variable batterie\n",
    "data['batterie principale']=data['batterie principale'].apply(fonction)"
   ]
  },
  {
   "cell_type": "code",
   "execution_count": 1915,
   "metadata": {},
   "outputs": [
    {
     "data": {
      "text/plain": [
       "41    13\n",
       "54     5\n",
       "68     1\n",
       "Name: batterie principale, dtype: int64"
      ]
     },
     "execution_count": 1915,
     "metadata": {},
     "output_type": "execute_result"
    }
   ],
   "source": [
    "data['batterie principale'].value_counts()"
   ]
  },
  {
   "cell_type": "code",
   "execution_count": 1850,
   "metadata": {},
   "outputs": [
    {
     "name": "stdout",
     "output_type": "stream",
     "text": [
      " La variable batterie a 3 modalités\n"
     ]
    }
   ],
   "source": [
    "print (\" La variable batterie a\",data['batterie principale'].nunique(),\"modalités\")"
   ]
  },
  {
   "cell_type": "markdown",
   "metadata": {},
   "source": [
    "# Variable service de support "
   ]
  },
  {
   "cell_type": "markdown",
   "metadata": {},
   "source": [
    "On supprime cette variable aussi car elle n'est pas pertinente."
   ]
  },
  {
   "cell_type": "code",
   "execution_count": 1916,
   "metadata": {},
   "outputs": [
    {
     "data": {
      "text/plain": [
       "1 an de service d‘enlèvement et retour à l‘atelier - aucune extension de garantie    60\n",
       "1y premium support and onsite service                                                13\n",
       "1 an de premium support et d‘intervention sur site                                   10\n",
       "Name: service de support, dtype: int64"
      ]
     },
     "execution_count": 1916,
     "metadata": {},
     "output_type": "execute_result"
    }
   ],
   "source": [
    "data['service de support'].value_counts()"
   ]
  },
  {
   "cell_type": "markdown",
   "metadata": {},
   "source": [
    "On remarque que deux modalités ne sont différentes que par leur langue :  on remplace l'anglais par le francais afin de les rassembler "
   ]
  },
  {
   "cell_type": "code",
   "execution_count": 1917,
   "metadata": {},
   "outputs": [],
   "source": [
    "data['service de support']=data['service de support'].apply(lambda x:\"1 an de premium support et d‘intervention sur site\" if x == \"1y premium support and onsite service\" else x )\n"
   ]
  },
  {
   "cell_type": "markdown",
   "metadata": {},
   "source": [
    "# Variable Logiciel de productivité"
   ]
  },
  {
   "cell_type": "markdown",
   "metadata": {},
   "source": [
    "On ne va pas conserver cette variable car même si elle est à priori binaire,les deux modalités nous disent la même chose : aucun ordinateur ne dispose d'une licence office incluse mais uniquement d'un essai de 30 jours."
   ]
  },
  {
   "cell_type": "code",
   "execution_count": 1853,
   "metadata": {},
   "outputs": [
    {
     "data": {
      "text/plain": [
       "version d‘essai de 30 jours de microsoft office, sans licence office                        52\n",
       "aucune licence microsoft office incluse, offre de version d‘essai de 30 jours uniquement    31\n",
       "Name:  logiciel de productivité, dtype: int64"
      ]
     },
     "execution_count": 1853,
     "metadata": {},
     "output_type": "execute_result"
    }
   ],
   "source": [
    "data[' logiciel de productivité'].value_counts()"
   ]
  },
  {
   "cell_type": "markdown",
   "metadata": {},
   "source": [
    "# Variable logiciel de sécurité"
   ]
  },
  {
   "cell_type": "markdown",
   "metadata": {},
   "source": [
    "On supprime cette variable car en regardant les modalités on se rend compte que la majorité des ordinateurs ont un abonnement de 12 mois à mcafee. "
   ]
  },
  {
   "cell_type": "code",
   "execution_count": 1854,
   "metadata": {},
   "outputs": [
    {
     "data": {
      "text/plain": [
       "abonnement de 12 mois à mcafee livesafe      55\n",
       "abonnement de 12 mois à mcafee® livesafe™    23\n",
       "antivirus inclus avec windows 10s             5\n",
       "Name: logiciel de sécurité, dtype: int64"
      ]
     },
     "execution_count": 1854,
     "metadata": {},
     "output_type": "execute_result"
    }
   ],
   "source": [
    "data['logiciel de sécurité'].value_counts()"
   ]
  },
  {
   "cell_type": "markdown",
   "metadata": {},
   "source": [
    "# Variables ports, indice de réparabilité, emplacement, sans fil, garantie et dommage accidentel et clavier"
   ]
  },
  {
   "cell_type": "markdown",
   "metadata": {},
   "source": [
    "On supprime les variables qui sont peu discriminantes et qui nous ne seront pas très utiles pour la modélisation. On considère qu'à peu près toutes les machines ont le même nombre de ports, la wifi et le bluetooth par exemple et que ce n'est pas ce type de variables qui expliquent beaucoup les scores associés aux avis de ces ordinateurs."
   ]
  },
  {
   "cell_type": "code",
   "execution_count": 1918,
   "metadata": {},
   "outputs": [],
   "source": [
    "data.drop(columns=[\" clavier\", \"couleur\",\"service de support\", \"ports\",\"emplacements\",\"son et haut parleur\",\"sans fil\",\"appareil photo\", \"indice de réparabilité\",\"logiciel de sécurité\",\" logiciel de productivité\", \"garantie et domage aciidentel\"],inplace=True)\n"
   ]
  },
  {
   "cell_type": "markdown",
   "metadata": {},
   "source": [
    "# Base de données pour les deux catégories inspiron et xps"
   ]
  },
  {
   "cell_type": "code",
   "execution_count": 1919,
   "metadata": {},
   "outputs": [
    {
     "data": {
      "text/html": [
       "<div>\n",
       "<style scoped>\n",
       "    .dataframe tbody tr th:only-of-type {\n",
       "        vertical-align: middle;\n",
       "    }\n",
       "\n",
       "    .dataframe tbody tr th {\n",
       "        vertical-align: top;\n",
       "    }\n",
       "\n",
       "    .dataframe thead th {\n",
       "        text-align: right;\n",
       "    }\n",
       "</style>\n",
       "<table border=\"1\" class=\"dataframe\">\n",
       "  <thead>\n",
       "    <tr style=\"text-align: right;\">\n",
       "      <th></th>\n",
       "      <th>prix</th>\n",
       "      <th>vitesse du processeur en GHZ</th>\n",
       "      <th>système d'exploitation</th>\n",
       "      <th>carte vidéo</th>\n",
       "      <th>écran en pouces</th>\n",
       "      <th>mémoire en GO</th>\n",
       "      <th>taille du disque dur en GO</th>\n",
       "      <th>poids en kg</th>\n",
       "      <th>batterie principale</th>\n",
       "    </tr>\n",
       "    <tr>\n",
       "      <th>num de commande</th>\n",
       "      <th></th>\n",
       "      <th></th>\n",
       "      <th></th>\n",
       "      <th></th>\n",
       "      <th></th>\n",
       "      <th></th>\n",
       "      <th></th>\n",
       "      <th></th>\n",
       "      <th></th>\n",
       "    </tr>\n",
       "  </thead>\n",
       "  <tbody>\n",
       "    <tr>\n",
       "      <th>cn31006sc11</th>\n",
       "      <td>329,04</td>\n",
       "      <td>2,8</td>\n",
       "      <td>windows 11</td>\n",
       "      <td>intel</td>\n",
       "      <td>15,6</td>\n",
       "      <td>4</td>\n",
       "      <td>128</td>\n",
       "      <td>1,85</td>\n",
       "      <td>41</td>\n",
       "    </tr>\n",
       "    <tr>\n",
       "      <th>cn31003sc11</th>\n",
       "      <td>329,04</td>\n",
       "      <td>3,1</td>\n",
       "      <td>windows 11</td>\n",
       "      <td>intel</td>\n",
       "      <td>15,6</td>\n",
       "      <td>4</td>\n",
       "      <td>128</td>\n",
       "      <td>1,85</td>\n",
       "      <td>41</td>\n",
       "    </tr>\n",
       "    <tr>\n",
       "      <th>cn31512</th>\n",
       "      <td>449,04</td>\n",
       "      <td>3050</td>\n",
       "      <td>windows 11</td>\n",
       "      <td>amd</td>\n",
       "      <td>15,6</td>\n",
       "      <td>4</td>\n",
       "      <td>256</td>\n",
       "      <td>1,69</td>\n",
       "      <td>41</td>\n",
       "    </tr>\n",
       "    <tr>\n",
       "      <th>cn31105</th>\n",
       "      <td>499,03</td>\n",
       "      <td>4,1</td>\n",
       "      <td>windows 11</td>\n",
       "      <td>intel</td>\n",
       "      <td>15,6</td>\n",
       "      <td>8</td>\n",
       "      <td>256</td>\n",
       "      <td>1,85</td>\n",
       "      <td>41</td>\n",
       "    </tr>\n",
       "    <tr>\n",
       "      <th>cn31509</th>\n",
       "      <td>499,03</td>\n",
       "      <td>3250</td>\n",
       "      <td>windows 11</td>\n",
       "      <td>amd</td>\n",
       "      <td>15,6</td>\n",
       "      <td>8</td>\n",
       "      <td>256</td>\n",
       "      <td>1,69</td>\n",
       "      <td>41</td>\n",
       "    </tr>\n",
       "  </tbody>\n",
       "</table>\n",
       "</div>"
      ],
      "text/plain": [
       "                   prix vitesse du processeur en GHZ système d'exploitation  \\\n",
       "num de commande                                                               \n",
       "cn31006sc11      329,04                          2,8             windows 11   \n",
       "cn31003sc11      329,04                          3,1             windows 11   \n",
       "cn31512          449,04                         3050             windows 11   \n",
       "cn31105          499,03                          4,1             windows 11   \n",
       "cn31509          499,03                         3250             windows 11   \n",
       "\n",
       "                 carte vidéo écran en pouces mémoire en GO  \\\n",
       "num de commande                                              \n",
       "cn31006sc11            intel            15,6             4   \n",
       "cn31003sc11            intel            15,6             4   \n",
       "cn31512                  amd            15,6             4   \n",
       "cn31105                intel            15,6             8   \n",
       "cn31509                  amd            15,6             8   \n",
       "\n",
       "                taille du disque dur en GO poids en kg batterie principale  \n",
       "num de commande                                                             \n",
       "cn31006sc11                            128        1,85                  41  \n",
       "cn31003sc11                            128        1,85                  41  \n",
       "cn31512                                256        1,69                  41  \n",
       "cn31105                                256        1,85                  41  \n",
       "cn31509                                256        1,69                  41  "
      ]
     },
     "execution_count": 1919,
     "metadata": {},
     "output_type": "execute_result"
    }
   ],
   "source": [
    "data.head()"
   ]
  },
  {
   "cell_type": "code",
   "execution_count": 1920,
   "metadata": {},
   "outputs": [
    {
     "data": {
      "text/plain": [
       "(83, 9)"
      ]
     },
     "execution_count": 1920,
     "metadata": {},
     "output_type": "execute_result"
    }
   ],
   "source": [
    "data.shape"
   ]
  },
  {
   "cell_type": "markdown",
   "metadata": {},
   "source": [
    "On a désormais 9 variables et 83 lignes."
   ]
  },
  {
   "cell_type": "code",
   "execution_count": 1922,
   "metadata": {},
   "outputs": [],
   "source": [
    "#on convertit les variables \"numériques\" en float pour la modélisation\n",
    "list=['prix','vitesse du processeur en GHZ','écran en pouces','mémoire en GO','taille du disque dur en GO','poids en kg','batterie principale']\n",
    "for i in list:\n",
    "    data[i] = data[i].str.replace(',', '.')\n",
    "    data[i]=data[i].astype(float)"
   ]
  },
  {
   "cell_type": "code",
   "execution_count": 1925,
   "metadata": {},
   "outputs": [
    {
     "name": "stdout",
     "output_type": "stream",
     "text": [
      "Valeurs manquantes par colonne:\n",
      "prix                             0\n",
      "vitesse du processeur en GHZ     0\n",
      "système d'exploitation           0\n",
      " carte vidéo                     0\n",
      "écran en pouces                  0\n",
      "mémoire en GO                    0\n",
      "taille du disque dur en GO       0\n",
      "poids en kg                     11\n",
      "batterie principale             64\n",
      "dtype: int64\n"
     ]
    }
   ],
   "source": [
    "# On affiche le nombre de valeurs manquantes par colonnes\n",
    "def num_missing(x):\n",
    "    return sum(x.isnull())\n",
    "\n",
    "# On applique cette fonction pour chaque colonne:\n",
    "print(\"Valeurs manquantes par colonne:\")\n",
    "print(data.apply(num_missing, axis=0)) "
   ]
  },
  {
   "cell_type": "code",
   "execution_count": 1869,
   "metadata": {},
   "outputs": [],
   "source": [
    "# On enregistre en local notre base de données\n",
    "data.to_csv('basexpsinspiron.csv')\n"
   ]
  }
 ],
 "metadata": {
  "accelerator": "GPU",
  "colab": {
   "collapsed_sections": [],
   "name": "Copy of webscrapping.ipynb",
   "provenance": []
  },
  "kernelspec": {
   "display_name": "Python 3 (ipykernel)",
   "language": "python",
   "name": "python3"
  },
  "language_info": {
   "codemirror_mode": {
    "name": "ipython",
    "version": 3
   },
   "file_extension": ".py",
   "mimetype": "text/x-python",
   "name": "python",
   "nbconvert_exporter": "python",
   "pygments_lexer": "ipython3",
   "version": "3.9.7"
  }
 },
 "nbformat": 4,
 "nbformat_minor": 4
}
